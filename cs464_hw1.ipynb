{
  "nbformat": 4,
  "nbformat_minor": 0,
  "metadata": {
    "colab": {
      "provenance": []
    },
    "kernelspec": {
      "name": "python3",
      "display_name": "Python 3"
    },
    "language_info": {
      "name": "python"
    }
  },
  "cells": [
    {
      "cell_type": "code",
      "execution_count": null,
      "metadata": {
        "colab": {
          "base_uri": "https://localhost:8080/"
        },
        "id": "AEXOn5DVSnOO",
        "outputId": "5f66ed43-7857-4792-da23-90ad64791e07"
      },
      "outputs": [
        {
          "output_type": "stream",
          "name": "stdout",
          "text": [
            "Mounted at /content/drive\n"
          ]
        }
      ],
      "source": [
        "from google.colab import drive\n",
        "drive.mount('/content/drive')"
      ]
    },
    {
      "cell_type": "code",
      "source": [
        "import pandas as pd\n",
        "import numpy as np"
      ],
      "metadata": {
        "id": "bjerxwVmUqHN"
      },
      "execution_count": null,
      "outputs": []
    },
    {
      "cell_type": "code",
      "source": [
        "def load_dataset(train_path,valid_path):\n",
        "  df_train = pd.read_csv(train_path).values\n",
        "  df_valid = pd.read_csv(valid_path).values\n",
        "\n",
        "  x_train = df_train[:,:-1]\n",
        "  y_train = df_train[:,-1]\n",
        "  x_test = df_valid[:,:-1]\n",
        "  y_test = df_valid[:,-1]\n",
        "\n",
        "  return x_train, y_train, x_test, y_test"
      ],
      "metadata": {
        "id": "p8FbmgJ1Xc6p"
      },
      "execution_count": null,
      "outputs": []
    },
    {
      "cell_type": "code",
      "source": [
        "train_path = \"/content/drive/MyDrive/Homework/dataset/bbcsports_train.csv\"\n",
        "valid_path = \"/content/drive/MyDrive/Homework/dataset/bbcsports_val.csv\"\n",
        "x_train, y_train, x_test, y_test = load_dataset(train_path,valid_path)\n",
        "print(f\"x_train shape:{x_train.shape}\")\n",
        "print(f\"x_test shape:{x_test.shape}\")\n",
        "print(f\"y_train shape:{y_train.shape}\")\n",
        "print(f\"y_test shape:{y_test.shape}\")"
      ],
      "metadata": {
        "colab": {
          "base_uri": "https://localhost:8080/"
        },
        "id": "DT4gHNu4bDRM",
        "outputId": "1beee25a-18b1-4045-9c78-60b1bf19bf28"
      },
      "execution_count": null,
      "outputs": [
        {
          "output_type": "stream",
          "name": "stdout",
          "text": [
            "x_train shape:(552, 4613)\n",
            "x_test shape:(185, 4613)\n",
            "y_train shape:(552,)\n",
            "y_test shape:(185,)\n"
          ]
        }
      ]
    },
    {
      "cell_type": "code",
      "source": [
        "count_array_train = np.array([np.count_nonzero(y_train==0),np.count_nonzero(y_train==1),np.count_nonzero(y_train==2),np.count_nonzero(y_train==3),np.count_nonzero(y_train==4)])\n",
        "count_array_valid = np.array([np.count_nonzero(y_test==0),np.count_nonzero(y_test==1),np.count_nonzero(y_test==2),np.count_nonzero(y_test==3),np.count_nonzero(y_test==4)])\n",
        "print(f\"Count of labels in y_train: {count_array_train}\")\n",
        "print(f\"Percentage distribution in y_train: {count_array_train / np.sum(count_array_train) * 100}\")\n",
        "print(f\"Count of labels in y_test: {count_array_valid}\")\n",
        "print(f\"Percentage distribution in y_test: {count_array_valid / np.sum(count_array_valid) * 100}\")"
      ],
      "metadata": {
        "colab": {
          "base_uri": "https://localhost:8080/"
        },
        "id": "YjtA_KQbdewh",
        "outputId": "43b0ce1c-ca14-4baf-cf5d-1aac884d1736"
      },
      "execution_count": null,
      "outputs": [
        {
          "output_type": "stream",
          "name": "stdout",
          "text": [
            "Count of labels in y_train: [ 77  86 198 114  77]\n",
            "Percentage distribution in y_train: [13.94927536 15.57971014 35.86956522 20.65217391 13.94927536]\n",
            "Count of labels in y_test: [24 38 67 33 23]\n",
            "Percentage distribution in y_test: [12.97297297 20.54054054 36.21621622 17.83783784 12.43243243]\n"
          ]
        }
      ]
    },
    {
      "cell_type": "code",
      "source": [
        "import matplotlib.pyplot as plt\n",
        "label_names = np.array([\"Athletics\",\"Cricket\",\"Football\",\"Rugby\",\"Tennis\"])\n",
        "\n",
        "plt.bar(label_names,count_array_train)\n",
        "plt.show()"
      ],
      "metadata": {
        "colab": {
          "base_uri": "https://localhost:8080/",
          "height": 265
        },
        "id": "2Yo95IJaiOWu",
        "outputId": "01f08b18-80fe-434c-e268-aa83295aa423"
      },
      "execution_count": null,
      "outputs": [
        {
          "output_type": "display_data",
          "data": {
            "text/plain": [
              "<Figure size 432x288 with 1 Axes>"
            ],
            "image/png": "[encoded data removed]"
          },
          "metadata": {
            "needs_background": "light"
          }
        }
      ]
    },
    {
      "cell_type": "code",
      "source": [
        "def naive_bayes_train(x_train,y_train):\n",
        "  #create 2D array with elements showing log(P(X|Y))\n",
        "  prop_array = np.zeros((len(np.unique(y_train)),x_train.shape[1]))\n",
        "  for i in range(prop_array.shape[0]):\n",
        "    word_count_at_label = np.sum(x_train[np.where(y_train==i)],axis=0)   \n",
        "    prop_array[i] = word_count_at_label / np.sum(word_count_at_label)\n",
        "  \n",
        "  prop_array = np.log(prop_array, out=np.zeros_like(prop_array),where=(prop_array!=0))\n",
        "  prop_array[prop_array==0] = -99999 \n",
        "  return prop_array"
      ],
      "metadata": {
        "id": "tFzloBynkPjF"
      },
      "execution_count": null,
      "outputs": []
    },
    {
      "cell_type": "code",
      "source": [
        "def naive_bayes_predict(prop_array,x_test,count_array_train):\n",
        "  predictions = np.zeros((x_test.shape[0],1))\n",
        "  proportions = np.log(count_array_train / np.sum(count_array_train))\n",
        "  for index,test_set in enumerate(x_test):\n",
        "    test_array = np.multiply(prop_array,test_set)    \n",
        "    test_array = np.sum(test_array,axis=1).reshape(1,-1)   \n",
        "    test_array = test_array + proportions   \n",
        "    predictions[index][0] = np.argmax(test_array)\n",
        "\n",
        "  return np.squeeze(predictions.reshape(1,-1))"
      ],
      "metadata": {
        "id": "w71OW9xFt0lk"
      },
      "execution_count": null,
      "outputs": []
    },
    {
      "cell_type": "code",
      "source": [
        "def evaluate_model(predictions,y_test):\n",
        "  accurate = 0\n",
        "  test_count = y_test.shape[0]\n",
        "  for i in range(test_count):\n",
        "    if predictions[i] == y_test[i]:\n",
        "      accurate = accurate + 1\n",
        "  \n",
        "  accuracy = accurate/test_count * 100\n",
        "  print(f\"Accuracy is {accuracy}\")\n",
        "  print(f\"Number of wrong predictions:{test_count-accurate}\")\n",
        "\n",
        "  #confusion matrix\n",
        "  y_t = pd.Series(predictions, name='Actual')\n",
        "  y_pred = pd.Series(y_test, name='Predicted')\n",
        "  confusion_matrix = pd.crosstab(y_t, y_pred)\n",
        "  print(confusion_matrix)"
      ],
      "metadata": {
        "id": "V5IoIBL54ISi"
      },
      "execution_count": null,
      "outputs": []
    },
    {
      "cell_type": "code",
      "source": [
        "prop_array = naive_bayes_train(x_train,y_train)\n",
        "predictions = naive_bayes_predict(prop_array,x_test,count_array_train)\n",
        "evaluate_model(predictions,y_test)"
      ],
      "metadata": {
        "colab": {
          "base_uri": "https://localhost:8080/"
        },
        "id": "7sZb3vdx0xRL",
        "outputId": "8f6c1e35-9c4a-4ae7-86a7-abc3abe0261b"
      },
      "execution_count": null,
      "outputs": [
        {
          "output_type": "stream",
          "name": "stdout",
          "text": [
            "Accuracy is 97.2972972972973\n",
            "Number of wrong predictions:5\n",
            "Predicted   0   1   2   3   4\n",
            "Actual                       \n",
            "0.0        23   0   0   0   1\n",
            "1.0         0  37   0   0   0\n",
            "2.0         1   1  67   1   1\n",
            "3.0         0   0   0  32   0\n",
            "4.0         0   0   0   0  21\n"
          ]
        }
      ]
    },
    {
      "cell_type": "code",
      "source": [
        "def naive_bayes_train_extended(x_train,y_train,dirichlet_prior):\n",
        "  #create 2D array with elements showing log(P(X|Y))\n",
        "  total_words = x_train.shape[1]\n",
        "  prop_array = np.zeros((len(np.unique(y_train)),total_words))\n",
        "  for i in range(prop_array.shape[0]):    \n",
        "    word_count_at_label = np.sum(x_train[np.where(y_train==i)],axis=0) + dirichlet_prior    \n",
        "    prop_array[i] = word_count_at_label / np.sum(word_count_at_label)    \n",
        "  \n",
        "  prop_array = np.log(prop_array) \n",
        "  return prop_array"
      ],
      "metadata": {
        "id": "HsaNSUz_4tuY"
      },
      "execution_count": null,
      "outputs": []
    },
    {
      "cell_type": "code",
      "source": [
        "prop_array = naive_bayes_train_extended(x_train,y_train,1)\n",
        "predictions = naive_bayes_predict(prop_array,x_test,count_array_train)\n",
        "evaluate_model(predictions,y_test)"
      ],
      "metadata": {
        "colab": {
          "base_uri": "https://localhost:8080/"
        },
        "id": "_8JZPMqm7Ai-",
        "outputId": "97a7151b-936f-44b1-a796-25a1317e8de0"
      },
      "execution_count": null,
      "outputs": [
        {
          "output_type": "stream",
          "name": "stdout",
          "text": [
            "Accuracy is 97.2972972972973\n",
            "Number of wrong predictions:5\n",
            "Predicted   0   1   2   3   4\n",
            "Actual                       \n",
            "0.0        24   0   0   0   1\n",
            "1.0         0  35   0   0   0\n",
            "2.0         0   1  66   0   0\n",
            "3.0         0   2   1  33   0\n",
            "4.0         0   0   0   0  22\n"
          ]
        }
      ]
    }
  ]
}