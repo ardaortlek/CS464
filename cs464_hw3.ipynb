{
  "cells": [
    {
      "cell_type": "markdown",
      "metadata": {
        "id": "YmlJ7FFJGA3k"
      },
      "source": [
        "**<h1><center>CS 464</center></h1>**\n",
        "**<h1><center>Introduction to Machine Learning</center></h1>**\n",
        "**<h1><center>Spring 2022</center></h1>**\n",
        "**<h1><center>Homework 3</center></h1>**\n",
        "<h4><center>Due: DEC 23, 2022 23:59 (GMT+3)</center></h4>"
      ]
    },
    {
      "cell_type": "markdown",
      "metadata": {
        "id": "LxSgl3smH_qk"
      },
      "source": [
        "In this third homework assignment, you are asked to develop a system that can be used to supply additional information to weather forecasts. For this task, you are provided a dataset that consists of weather images that belong to four different weather conditions: [cloudy, rain, shiny, sunrise]. Your model will classify images considering these class labels. \n",
        "\n",
        "For this assignment, **using PyTorch is mandatory.**\n",
        "\n",
        "**Tip:** You may experience latencies in file I/O if you are using Google Colab. In this regard, we recommend you upload your data to Google Drive as a zip file and unzip the folder contents in your drive. If you would like to upload the data files separately, it may take significant time.\n",
        "\n",
        "You will submit a single ipynb file as the homework submission. If you want to provide further explanation about your work, you can add Markdown cells to do so. [Here](https://www.markdownguide.org/), you can find a guide for Markdown syntax. Upload your homework with the following filename convention: \\<BilkentID\\>\\_\\<Name\\>\\_\\<Surname\\>.ipynb\n",
        "\n",
        "**Contact:**\n",
        "- [Yusuf Dalva](mailto:yusuf.dalva@bilkent.edu.tr)\n",
        "- [Ahmet Burak Yıldırım](mailto:a.yildirim@bilkent.edu.tr)\n",
        "\n",
        "**Dataset**<br>\n",
        "You can find the dataset [here](https://www.kaggle.com/datasets/pratik2901/multiclass-weather-dataset). \n"
      ]
    },
    {
      "cell_type": "markdown",
      "metadata": {
        "id": "kUQigqxM4JlE"
      },
      "source": [
        "# **Q1** [12 points]\n",
        "This part consists of 4 questions which you are expected to answer. Please fill in the following cell in Markdown format. Each question is worth 2 points."
      ]
    },
    {
      "cell_type": "markdown",
      "metadata": {
        "id": "3ZcbkhwkbQ4m"
      },
      "source": [
        "a) Do we need to output the actual probability values when performing classification with the softmax layer? If not, how do these numbers represent the likelihood of classes? Also, does the output values should be in a specific range for us to make a classification? <br>\n",
        "\n",
        "b) From the perspective of model complexity, how you can identify when a model underfits or overfits? Which plots are informative for detecting this behavior? <br>\n",
        "\n",
        "c) In neural networks, how does the ReLU function help us to generalize to conplex feature spaces? Why we are not using linear layers only? <br>\n",
        "\n",
        "d) Assume that you are going to pass the feature matrix with dimensions 64x64x5 (Height x Width x Channel size) through a convolutional layer. If our convolutional layer has a kernel size of 3x3 and the number of filters is 6, how many learnable parameters are present? <br>"
      ]
    },
    {
      "cell_type": "markdown",
      "source": [
        "a) No, we do not need to output the actual probability values. We generally do np.argmax operation to get the highest probable index. These numbers are coming from the formula: ![pasted image 0.png](data:image/png;base64,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) (https://deepai.org/machine-learning-glossary-and-terms/softmax-layer) <br />\n",
        "The output values are in the range of [0,1]. <br /> <br />\n",
        "\n",
        "b) Comparison of validation loss and training loss graphs helps me to identify underfitting or overfitting. If validation loss is relatively higher than training loss, there is an overfitting case. In the opposite way, if validation loss is relatively lower than training loss, this means that the model did not learn much from the training data and there is an underfitting case. <br /> <br />\n",
        "\n",
        "c) The reason for us not only use linear layers is that for non-linear problems, neural network has to apply non-linear transformation. Therefore, we prefer non linear activation functions. ReLU can provide sparse representation by outputing zero value for negative inputs, which can accelerate the learning process and simplify the model. Moreover, group of ReLU units can form complex polyhedra along the class boundaries (https://machinelearningmastery.com/rectified-linear-activation-function-for-deep-learning-neural-networks/,https://towardsdatascience.com/if-rectified-linear-units-are-linear-how-do-they-add-nonlinearity-40247d3e4792).<br /> <br />\n",
        "\n",
        "d) 3 * 3 * 5 * 6 + 6 = 276"
      ],
      "metadata": {
        "id": "LEVKBOqJNio5"
      }
    },
    {
      "cell_type": "markdown",
      "metadata": {
        "id": "Qx_XrpE44TlW"
      },
      "source": [
        "# **Q2** [88 points]"
      ]
    },
    {
      "cell_type": "markdown",
      "metadata": {
        "id": "whvv0wjpDWC_"
      },
      "source": [
        "## Necessary Imports\n",
        "In the cell below, we import some utilities that you can make use of in this assignment. Note that you need to use PyTorch in this assignment. To report certain metrics (like precision, recall, accuracy) you may use utilities from *scikit-learn* library. You can edit these imports considering your implementation as long as you use PyTorch."
      ]
    },
    {
      "cell_type": "markdown",
      "metadata": {
        "id": "ByxehL1b4b2X"
      },
      "source": [
        "## Setup"
      ]
    },
    {
      "cell_type": "code",
      "execution_count": null,
      "metadata": {
        "id": "Jk_nY5kj70sX",
        "colab": {
          "base_uri": "https://localhost:8080/"
        },
        "outputId": "79e27735-6224-420e-c37d-2d06f816d79d"
      },
      "outputs": [
        {
          "output_type": "stream",
          "name": "stdout",
          "text": [
            "Mounted at /content/drive\n"
          ]
        }
      ],
      "source": [
        "from google.colab import drive\n",
        "drive.mount('/content/drive')\n",
        "\n",
        "import os \n",
        "import time\n",
        "import random\n",
        "\n",
        "import numpy as np\n",
        "from PIL import Image\n",
        "import matplotlib.pyplot as plt\n",
        "\n",
        "import torch\n",
        "import torch.nn as nn\n",
        "import torch.nn.functional as F\n",
        "import torchvision.models as models\n",
        "from torch.utils.data import Dataset, DataLoader\n",
        "\n",
        "from sklearn.model_selection import train_test_split\n",
        "from sklearn.metrics import confusion_matrix, f1_score, precision_score, recall_score, accuracy_score\n",
        "\n",
        "import seaborn as sns"
      ]
    },
    {
      "cell_type": "markdown",
      "metadata": {
        "id": "yAve2XUl9spy"
      },
      "source": [
        "You can test whether hardware acceleration with GPU is enabled in the cell below. In addition, if you have GPU access, you can check the amount of available GPU memory."
      ]
    },
    {
      "cell_type": "code",
      "execution_count": null,
      "metadata": {
        "id": "0XJ4Hihx5q-2",
        "colab": {
          "base_uri": "https://localhost:8080/"
        },
        "outputId": "110bdb6a-484c-4004-ba9d-8b1d5be470f9"
      },
      "outputs": [
        {
          "output_type": "stream",
          "name": "stdout",
          "text": [
            "Using device: cuda\n",
            "GPU Name: Tesla T4\n",
            "Memory Stats:\n",
            "  - Allocated: 0.0 GB\n",
            "  - Cached:    0.0 GB\n",
            "  - Total:     14.8 GB\n"
          ]
        }
      ],
      "source": [
        "# setting device as GPU if available, else CPU\n",
        "device = torch.device('cuda' if torch.cuda.is_available() else 'cpu')\n",
        "print('Using device:', device)\n",
        "\n",
        "# CUDA device information\n",
        "if device.type == 'cuda':\n",
        "    print('GPU Name:', torch.cuda.get_device_name(0))\n",
        "    print('Memory Stats:')\n",
        "    print('  - Allocated:', round(torch.cuda.memory_allocated(0)/1024**3,1), 'GB')\n",
        "    print('  - Cached:   ', round(torch.cuda.memory_reserved(0)/1024**3,1), 'GB')\n",
        "    print('  - Total:    ', round(torch.cuda.get_device_properties(0).total_memory/1024**3,1), 'GB')"
      ]
    },
    {
      "cell_type": "markdown",
      "metadata": {
        "id": "-wVIFjmb-CJI"
      },
      "source": [
        "**DO NOT CHANGE**<br>\n",
        "To evaluate your implementation fairly, we set seed values for random sampling methods in PyTorch, Numpy, and Python random library. These seeds are set to evaluate your models successfully, so do not change these values."
      ]
    },
    {
      "cell_type": "code",
      "execution_count": null,
      "metadata": {
        "id": "4NiPHoaY5q8G"
      },
      "outputs": [],
      "source": [
        "# for reproducable results\n",
        "torch.manual_seed(464)\n",
        "torch.cuda.manual_seed(464)\n",
        "np.random.seed(464)\n",
        "random.seed(464)\n",
        "if device.type == 'cuda':\n",
        "    torch.backends.cudnn.deterministic=True"
      ]
    },
    {
      "cell_type": "markdown",
      "metadata": {
        "id": "Bbgnyp5J4fMb"
      },
      "source": [
        "## Load Data [6 points]\n",
        "In this assignment, you will use a custom dataset, which you need a wrapper class to access its data. For this purpose, implement a custom dataset class to organize data with the specifications you need. This class will load batches of data using a PyTorch DataLoader later. The class signature of CustomDataset class is provided to you in the cell below, where you can implement your custom dataset.\n",
        "\n",
        "**IMPORTANT:** As you may have difficulties while fitting all images to your RAM, you need to read the images while getting that item (each item is an image here). We encourage you to read the data files in the \"__getitem__\" function to avoid encountering any issues related to fitting the data to memory. This way, you do not need to hold the dataset in a single variable, which would be memory intensive."
      ]
    },
    {
      "cell_type": "code",
      "execution_count": null,
      "metadata": {
        "id": "iEgUvtFR8uY_"
      },
      "outputs": [],
      "source": [
        "class WeatherDataset(Dataset):\n",
        "    def __init__(self, x, y, **kwargs):\n",
        "        self.x = torch.tensor(x,dtype=torch.float,device=device)\n",
        "        self.y = torch.tensor(y,dtype=torch.float,device=device)\n",
        "\n",
        "    '''This function should return sample count in the dataset'''\n",
        "    def __len__(self):\n",
        "        return self.y.size(dim=0)\n",
        "\n",
        "    '''This function should return a single sample and its ground truth value from the dataset corresponding to index parameter '''\n",
        "    def __getitem__(self, index):\n",
        "        return (self.x[index],self.y[index])"
      ]
    },
    {
      "cell_type": "markdown",
      "metadata": {
        "id": "H5aZOFJwEc_-"
      },
      "source": [
        "You can implement an additional function to read and construct custom dataset objects for training, validation, and test sets. While constructing the dataset, consider the following issues:\n",
        "- Dataset contains images that end with prefixes *.jpg* and *.jpeg*.\n",
        "- If you use PIL to read images, you should convert them to \"RGB\" format to operate on three color channels.\n",
        "- Resize the dataset images to 224x224. You are going to design models that take images with tensor shape 224x224x3.\n",
        "- If you wish, you can change the ordering of the color channels with np.moveaxis function\n",
        "\n",
        "Lastly, the train-validation-test split for the dataset provided to you is 70-10-20 in terms of percentages. While constructing the dataset, remember that shuffling is a necessary step (to get randomly distributed classes across batches).\n",
        "\n",
        "You can design your dataset getter method compatible with the line provided below, where train_dataset, val_dataset, and test_dataset are all instances of CustomDataset."
      ]
    },
    {
      "cell_type": "code",
      "execution_count": null,
      "metadata": {
        "id": "5icOihzMzqfe"
      },
      "outputs": [],
      "source": [
        "root_dir = \"/content/drive/MyDrive/Homework/WeatherDataset\"\n",
        "#y should be one encoded\n",
        "#normalize image data and resize to 224x224\n",
        "def load_dataset(root_dir):\n",
        "  x = []\n",
        "  y = []\n",
        "  current_label = 0\n",
        "  label_name_dict = {} # For instance: {'Shine': 0, 'Cloudy': 1, 'Sunrise': 2, 'Rain': 3}\n",
        "  #load data and labels to x and y\n",
        "  for root,sub_dirs,files in os.walk(root_dir):\n",
        "    for sub_dir in sub_dirs:\n",
        "      sub_dir_path = f\"{root}/{sub_dir}\"\n",
        "      label_name_dict[sub_dir] = current_label\n",
        "      for _,_,image_paths in os.walk(sub_dir_path):\n",
        "        for image_path in image_paths:\n",
        "          image = Image.open(f\"{sub_dir_path}/{image_path}\").convert(\"RGB\").resize((224,224), Image.BILINEAR)       \n",
        "          x.append(np.array(image,dtype=np.float64))\n",
        "          one_hot_encoded_vector = np.zeros(len(sub_dirs))\n",
        "          one_hot_encoded_vector[current_label] = 1\n",
        "          y.append(one_hot_encoded_vector)\n",
        "\n",
        "      current_label = current_label + 1\n",
        "\n",
        "  #convert this lists to np.array\n",
        "  x = np.array(x,dtype=np.float64).transpose((0,3,1,2)) #adjust sizes to match with pytorch input\n",
        "  y = np.array(y,dtype=np.float64)\n",
        "\n",
        "  #shuffle the data\n",
        "  N = x.shape[0]\n",
        "  sample_order = np.random.permutation(N)\n",
        "  x = x[sample_order,:]\n",
        "  y = y[sample_order]\n",
        "\n",
        "  #70% training\n",
        "  traininig_samples = int(N * 7 / 10)\n",
        "  x_train = x[0:traininig_samples]\n",
        "  y_train = y[0:traininig_samples]\n",
        "  #10% validation\n",
        "  validation_samples = int(N / 10)\n",
        "  x_valid = x[traininig_samples:(traininig_samples+validation_samples)]\n",
        "  y_valid = y[traininig_samples:(traininig_samples+validation_samples)]\n",
        "  #20% test\n",
        "  x_test = x[(traininig_samples+validation_samples):]\n",
        "  y_test = y[(traininig_samples+validation_samples):]\n",
        "\n",
        "  #Normalize x values --> x_train should be between 0 and 1 and other x values should be normalized according to x_train scales.\n",
        "  max_x_train = x_train.max()\n",
        "  min_x_train = x_train.min()\n",
        "\n",
        "  x_train = (x_train - min_x_train) / (max_x_train - min_x_train)\n",
        "  x_valid = (x_valid - min_x_train) / (max_x_train - min_x_train)\n",
        "  x_test = (x_test - min_x_train) / (max_x_train - min_x_train)\n",
        "\n",
        "  #Create WeatherDataset objects for train, valid and test arrays\n",
        "  train_dataset = WeatherDataset(x_train,y_train)\n",
        "  val_dataset = WeatherDataset(x_valid, y_valid)\n",
        "  test_dataset = WeatherDataset(x_test,y_test)\n",
        "  \n",
        "  return train_dataset,val_dataset,test_dataset,label_name_dict\n",
        "\n",
        "train_dataset, val_dataset, test_dataset, label_name_dict = load_dataset(root_dir)"
      ]
    },
    {
      "cell_type": "markdown",
      "metadata": {
        "id": "ltjHllVn4juX"
      },
      "source": [
        "## Models [16 points]\n",
        "In this assignment, you will implement one CNN (Convolutional Neural Network) model and one FCN (Fully-Connected Network) model, where the class signatures are provided below."
      ]
    },
    {
      "cell_type": "markdown",
      "metadata": {
        "id": "VY-2PQauFJWn"
      },
      "source": [
        "### Convolutional Neural Network (CNN) Model [8 points]\n",
        "As the first model, you will implement a convolutional model. Your model will include 3 CONV + POOL blocks, which denotes one Convolutional layer followed by a Max Pooling Layer. The channel sizes for convolutional blocks are [16, 32, 64], respectively. For all convolutional layers, take kernel size as 3, stride as one, and apply padding such that convolutions do not change the shape on width and height dimensions. \n",
        "<br><br>\n",
        "Following the convolutional part, you will perform image classification for the dataset provided to you. You can use ReLU activation as the non-linearity in your model (except the classification layer)."
      ]
    },
    {
      "cell_type": "code",
      "execution_count": null,
      "metadata": {
        "id": "C1yM9RoqAYh8"
      },
      "outputs": [],
      "source": [
        "class ConvNet(nn.Module):\n",
        "    '''Define your convolutional neural network'''\n",
        "    def __init__(self, **kwargs):\n",
        "      super(ConvNet, self).__init__()\n",
        "      self.conv1 = nn.Conv2d(in_channels=3,out_channels=16,kernel_size=3,stride=1,padding=\"same\")\n",
        "      self.mp = nn.MaxPool2d(2,2)\n",
        "      self.conv2 = nn.Conv2d(in_channels=16,out_channels=32,kernel_size=3,stride=1,padding=\"same\")      \n",
        "      self.conv3 = nn.Conv2d(in_channels=32,out_channels=64,kernel_size=3,stride=1,padding=\"same\")\n",
        "      self.classification_layer = nn.Linear(in_features=64 * 28 * 28,out_features=4)\n",
        "      self.flatten = nn.Flatten()\n",
        "\n",
        "    def forward(self, x):\n",
        "      x = self.mp(F.relu(self.conv1(x)))\n",
        "      x = self.mp(F.relu(self.conv2(x)))\n",
        "      x = self.mp(F.relu(self.conv3(x)))\n",
        "      output = F.softmax(self.classification_layer(self.flatten(x)),dim=-1)\n",
        "      return output"
      ]
    },
    {
      "cell_type": "markdown",
      "metadata": {
        "id": "b7plNvDmGmMO"
      },
      "source": [
        "### Fully Connected Network (FCN) Model [8 points]\n",
        "The second model you will try is a Fully Connected Network composed of Linear layers and non-linear activation functions connected to each other. For this part, the number of features for your linear layers is [1024, 512, 256]. Again, you can use ReLU as your non-linear activation function in your model (except the classification layer)."
      ]
    },
    {
      "cell_type": "code",
      "execution_count": null,
      "metadata": {
        "id": "spwuuCJcb5H_"
      },
      "outputs": [],
      "source": [
        "class FCNet(nn.Module):\n",
        "    '''Define your full connected network'''\n",
        "    def __init__(self, **kwargs):\n",
        "        super(FCNet, self).__init__()\n",
        "        self.l1 = nn.Linear(in_features=3 * 224 * 224,out_features=1024)\n",
        "        self.l2 = nn.Linear(in_features=1024,out_features=512)\n",
        "        self.l3 = nn.Linear(in_features=512,out_features=256)\n",
        "        self.classification_layer = nn.Linear(in_features=256,out_features=4)\n",
        "        self.flatten = nn.Flatten()\n",
        "\n",
        "    def forward(self, x):\n",
        "      x = self.flatten(x)      \n",
        "      x = F.relu(self.l1(x))\n",
        "      x = F.relu(self.l2(x))\n",
        "      x = F.relu(self.l3(x))\n",
        "      output = F.softmax(self.classification_layer(x),dim=-1)\n",
        "      return output"
      ]
    },
    {
      "cell_type": "markdown",
      "metadata": {
        "id": "TAQDCw1AgAJV"
      },
      "source": [
        "## Training and Evaluation of FCN [22 points]\n",
        "\n",
        "Now that you implemented the model definition of CNN and FCN, you will train these models with the hyperparameters you chose. The hyperparameters that you may change are listed in the cell below. Using the FCN model defined, train a classifier that predicts weather condition classes specified by the dataset. For the optimizer, use [SGD](https://pytorch.org/docs/stable/generated/torch.optim.SGD.html) optimizer provided by PyTorch. You should try out different hyper-parameters like learning rates, epochs, momentum, and weight decay. For [momentum](https://machinelearningmastery.com/gradient-descent-with-momentum-from-scratch/) and [weight decay](https://paperswithcode.com/method/weight-decay), you can read about these concepts if you are interested.\n",
        "\n",
        "While training your model, save your best model over different epochs. You must select an appropriate metric to define the best model at a time step. You can implement the training procedure in the cell below. If you want to explain the reasoning behind your metric selection, you can add a markdown cell and provide your comments."
      ]
    },
    {
      "cell_type": "markdown",
      "metadata": {
        "id": "QMin6YgCgAJa"
      },
      "source": [
        "### Training [12 points]"
      ]
    },
    {
      "cell_type": "code",
      "execution_count": null,
      "metadata": {
        "id": "bmV69xm_gAJa",
        "colab": {
          "base_uri": "https://localhost:8080/"
        },
        "outputId": "88d1ec34-a793-4a54-84ed-f97db131210a"
      },
      "outputs": [
        {
          "output_type": "stream",
          "name": "stdout",
          "text": [
            "Epoch:1------> Validation error:1.3658499717712402 Validation accuracy:46.42857142857143% Training error:1.3765672812095056 Training accuracy:42.566709021601014%\n",
            "Epoch:2------> Validation error:1.3397811651229858 Validation accuracy:51.785714285714285% Training error:1.355242444918706 Training accuracy:50.825921219822106%\n",
            "Epoch:3------> Validation error:1.301926612854004 Validation accuracy:50.892857142857146% Training error:1.3244608090474055 Training accuracy:51.46124523506989%\n",
            "Epoch:4------> Validation error:1.2546741962432861 Validation accuracy:51.785714285714285% Training error:1.2812699538010817 Training accuracy:51.715374841168995%\n",
            "Epoch:5------> Validation error:1.2124574184417725 Validation accuracy:51.785714285714285% Training error:1.2351218186891997 Training accuracy:51.58831003811944%\n",
            "Epoch:6------> Validation error:1.1804370880126953 Validation accuracy:58.035714285714285% Training error:1.1976845356134267 Training accuracy:52.858958068614996%\n",
            "Epoch:7------> Validation error:1.1558754444122314 Validation accuracy:63.392857142857146% Training error:1.1693651492779071 Training accuracy:56.5438373570521%\n",
            "Epoch:8------> Validation error:1.1359846591949463 Validation accuracy:66.07142857142857% Training error:1.1465480144207294 Training accuracy:62.134688691232526%\n",
            "Epoch:9------> Validation error:1.1192277669906616 Validation accuracy:67.85714285714286% Training error:1.126727480154771 Training accuracy:65.18424396442185%\n",
            "Epoch:10------> Validation error:1.1048293113708496 Validation accuracy:68.75% Training error:1.1086752506402822 Training accuracy:67.97966963151207%\n",
            "Epoch:11------> Validation error:1.092024803161621 Validation accuracy:69.64285714285714% Training error:1.0913500419029822 Training accuracy:71.79161372299873%\n",
            "Epoch:12------> Validation error:1.0804224014282227 Validation accuracy:70.53571428571429% Training error:1.0745492990200336 Training accuracy:74.96823379923761%\n",
            "Epoch:13------> Validation error:1.070136547088623 Validation accuracy:70.53571428571429% Training error:1.0585343562639677 Training accuracy:77.0012706480305%\n",
            "Epoch:14------> Validation error:1.0606918334960938 Validation accuracy:70.53571428571429% Training error:1.0436543042843158 Training accuracy:77.89072426937739%\n",
            "Epoch:15------> Validation error:1.0526243448257446 Validation accuracy:72.32142857142857% Training error:1.0300807861181407 Training accuracy:78.27191867852605%\n",
            "Epoch:16------> Validation error:1.0457230806350708 Validation accuracy:72.32142857142857% Training error:1.0180266545369074 Training accuracy:78.52604828462516%\n",
            "Epoch:17------> Validation error:1.0396838188171387 Validation accuracy:72.32142857142857% Training error:1.0074287423720727 Training accuracy:78.90724269377382%\n",
            "Epoch:18------> Validation error:1.0345282554626465 Validation accuracy:72.32142857142857% Training error:0.9982401040884165 Training accuracy:79.03430749682337%\n",
            "Epoch:19------> Validation error:1.0302742719650269 Validation accuracy:73.21428571428571% Training error:0.9902200148655818 Training accuracy:79.5425667090216%\n",
            "Epoch:20------> Validation error:1.0265190601348877 Validation accuracy:73.21428571428571% Training error:0.9832651615142822 Training accuracy:80.30495552731894%\n",
            "Epoch:21------> Validation error:1.0231174230575562 Validation accuracy:73.21428571428571% Training error:0.9772624098337613 Training accuracy:80.30495552731894%\n",
            "Epoch:22------> Validation error:1.0201764106750488 Validation accuracy:73.21428571428571% Training error:0.9720109242659348 Training accuracy:80.6861499364676%\n",
            "Epoch:23------> Validation error:1.01753568649292 Validation accuracy:73.21428571428571% Training error:0.9673592218985925 Training accuracy:80.81321473951715%\n",
            "Epoch:24------> Validation error:1.0150970220565796 Validation accuracy:73.21428571428571% Training error:0.9632188540238601 Training accuracy:81.44853875476493%\n",
            "Epoch:25------> Validation error:1.012935996055603 Validation accuracy:72.32142857142857% Training error:0.9594223270049462 Training accuracy:81.70266836086404%\n",
            "Epoch:26------> Validation error:1.0109925270080566 Validation accuracy:72.32142857142857% Training error:0.9560308731519259 Training accuracy:81.57560355781449%\n",
            "Epoch:27------> Validation error:1.008862018585205 Validation accuracy:73.21428571428571% Training error:0.9529092449408311 Training accuracy:81.8297331639136%\n",
            "Epoch:28------> Validation error:1.007241129875183 Validation accuracy:73.21428571428571% Training error:0.9499465410525982 Training accuracy:82.0838627700127%\n",
            "Epoch:29------> Validation error:1.0054817199707031 Validation accuracy:71.42857142857143% Training error:0.9473237899633554 Training accuracy:82.33799237611181%\n",
            "Epoch:30------> Validation error:1.0039176940917969 Validation accuracy:71.42857142857143% Training error:0.9448141593199509 Training accuracy:82.46505717916138%\n",
            "Epoch:31------> Validation error:1.0025711059570312 Validation accuracy:70.53571428571429% Training error:0.9424570202827454 Training accuracy:82.71918678526048%\n",
            "Epoch:32------> Validation error:1.0011881589889526 Validation accuracy:70.53571428571429% Training error:0.940279286641341 Training accuracy:82.97331639135959%\n",
            "Epoch:33------> Validation error:0.9998106956481934 Validation accuracy:70.53571428571429% Training error:0.9381748621280377 Training accuracy:82.84625158831004%\n",
            "Epoch:34------> Validation error:0.9985381364822388 Validation accuracy:70.53571428571429% Training error:0.9361726366556608 Training accuracy:82.59212198221093%\n",
            "Epoch:35------> Validation error:0.997344970703125 Validation accuracy:72.32142857142857% Training error:0.9342871079078088 Training accuracy:82.59212198221093%\n",
            "Epoch:36------> Validation error:0.9962370991706848 Validation accuracy:72.32142857142857% Training error:0.932487584077395 Training accuracy:82.97331639135959%\n",
            "Epoch:37------> Validation error:0.9950760006904602 Validation accuracy:71.42857142857143% Training error:0.9308161231187674 Training accuracy:82.71918678526048%\n",
            "Epoch:38------> Validation error:0.9940572381019592 Validation accuracy:73.21428571428571% Training error:0.9291458267431992 Training accuracy:82.84625158831004%\n",
            "Epoch:39------> Validation error:0.993077278137207 Validation accuracy:74.10714285714286% Training error:0.927527693601755 Training accuracy:83.10038119440915%\n",
            "Epoch:40------> Validation error:0.9921054840087891 Validation accuracy:74.10714285714286% Training error:0.9260155054239126 Training accuracy:83.10038119440915%\n",
            "Epoch:41------> Validation error:0.9912307262420654 Validation accuracy:74.10714285714286% Training error:0.9245189703427829 Training accuracy:83.35451080050827%\n",
            "Epoch:42------> Validation error:0.990388035774231 Validation accuracy:74.10714285714286% Training error:0.9230647132946894 Training accuracy:83.2274459974587%\n",
            "Epoch:43------> Validation error:0.9895862340927124 Validation accuracy:74.10714285714286% Training error:0.9216335736788236 Training accuracy:83.2274459974587%\n",
            "Epoch:44------> Validation error:0.9887615442276001 Validation accuracy:74.10714285714286% Training error:0.9201831359129685 Training accuracy:83.2274459974587%\n",
            "Epoch:45------> Validation error:0.9879839420318604 Validation accuracy:74.10714285714286% Training error:0.9188006061774033 Training accuracy:83.60864040660736%\n",
            "Epoch:46------> Validation error:0.9871525764465332 Validation accuracy:75.0% Training error:0.9174315058268033 Training accuracy:83.60864040660736%\n",
            "Epoch:47------> Validation error:0.9862577319145203 Validation accuracy:75.89285714285714% Training error:0.9160743814248306 Training accuracy:83.73570520965693%\n",
            "Epoch:48------> Validation error:0.9854272603988647 Validation accuracy:75.89285714285714% Training error:0.9146609627283536 Training accuracy:83.98983481575604%\n",
            "Epoch:49------> Validation error:0.9844115376472473 Validation accuracy:75.0% Training error:0.9133297984416668 Training accuracy:83.98983481575604%\n",
            "Epoch:50------> Validation error:0.9834524989128113 Validation accuracy:75.0% Training error:0.9118645970637982 Training accuracy:83.98983481575604%\n",
            "Epoch:51------> Validation error:0.9824347496032715 Validation accuracy:75.0% Training error:0.9104363918304443 Training accuracy:84.24396442185514%\n",
            "Epoch:52------> Validation error:0.9815278053283691 Validation accuracy:75.0% Training error:0.9090690750342149 Training accuracy:84.49809402795425%\n",
            "Epoch:53------> Validation error:0.9804049730300903 Validation accuracy:75.89285714285714% Training error:0.9076536756295425 Training accuracy:84.49809402795425%\n",
            "Epoch:54------> Validation error:0.9794876575469971 Validation accuracy:75.89285714285714% Training error:0.906263007567479 Training accuracy:84.49809402795425%\n",
            "Epoch:55------> Validation error:0.9786512851715088 Validation accuracy:76.78571428571429% Training error:0.9049378220851605 Training accuracy:84.62515883100382%\n",
            "Epoch:56------> Validation error:0.9776250720024109 Validation accuracy:76.78571428571429% Training error:0.903572155879094 Training accuracy:84.87928843710293%\n",
            "Epoch:57------> Validation error:0.9765651226043701 Validation accuracy:76.78571428571429% Training error:0.9022806149262649 Training accuracy:85.5146124523507%\n",
            "Epoch:58------> Validation error:0.9758663177490234 Validation accuracy:76.78571428571429% Training error:0.9009049213849581 Training accuracy:85.5146124523507%\n",
            "Epoch:59------> Validation error:0.9750622510910034 Validation accuracy:75.89285714285714% Training error:0.8996909810946538 Training accuracy:85.64167725540025%\n",
            "Epoch:60------> Validation error:0.9739868640899658 Validation accuracy:75.89285714285714% Training error:0.8984516859054565 Training accuracy:85.89580686149937%\n",
            "Epoch:61------> Validation error:0.9731987714767456 Validation accuracy:76.78571428571429% Training error:0.8971444093264066 Training accuracy:86.14993646759848%\n",
            "Epoch:62------> Validation error:0.972262978553772 Validation accuracy:77.67857142857143% Training error:0.8959289330702561 Training accuracy:86.27700127064803%\n",
            "Epoch:63------> Validation error:0.9714212417602539 Validation accuracy:77.67857142857143% Training error:0.8947438918627225 Training accuracy:86.40406607369759%\n",
            "Epoch:64------> Validation error:0.9706233143806458 Validation accuracy:77.67857142857143% Training error:0.8935653246366061 Training accuracy:86.40406607369759%\n",
            "Epoch:65------> Validation error:0.9696467518806458 Validation accuracy:77.67857142857143% Training error:0.8924672511907724 Training accuracy:86.40406607369759%\n",
            "Epoch:66------> Validation error:0.9688332676887512 Validation accuracy:77.67857142857143% Training error:0.8912776250105637 Training accuracy:86.78526048284625%\n",
            "Epoch:67------> Validation error:0.9679293632507324 Validation accuracy:77.67857142857143% Training error:0.8902033338179955 Training accuracy:86.78526048284625%\n",
            "Epoch:68------> Validation error:0.9669755101203918 Validation accuracy:77.67857142857143% Training error:0.8890598966525152 Training accuracy:86.9123252858958%\n",
            "Epoch:69------> Validation error:0.9662659764289856 Validation accuracy:77.67857142857143% Training error:0.8879552483558655 Training accuracy:86.9123252858958%\n",
            "Epoch:70------> Validation error:0.965266227722168 Validation accuracy:77.67857142857143% Training error:0.886857637992272 Training accuracy:86.9123252858958%\n",
            "Epoch:71------> Validation error:0.9643144607543945 Validation accuracy:78.57142857142857% Training error:0.8857563596505386 Training accuracy:86.9123252858958%\n",
            "Epoch:72------> Validation error:0.9633184671401978 Validation accuracy:78.57142857142857% Training error:0.8847010410748996 Training accuracy:87.03939008894537%\n",
            "Epoch:73------> Validation error:0.962446391582489 Validation accuracy:78.57142857142857% Training error:0.88359502187142 Training accuracy:87.16645489199492%\n",
            "Epoch:74------> Validation error:0.9616247415542603 Validation accuracy:78.57142857142857% Training error:0.882519162618197 Training accuracy:87.29351969504447%\n",
            "Epoch:75------> Validation error:0.9608352780342102 Validation accuracy:78.57142857142857% Training error:0.8814747516925519 Training accuracy:87.54764930114358%\n",
            "Epoch:76------> Validation error:0.960028350353241 Validation accuracy:78.57142857142857% Training error:0.8804348615499643 Training accuracy:87.67471410419314%\n",
            "Epoch:77------> Validation error:0.959244966506958 Validation accuracy:79.46428571428571% Training error:0.879422284089602 Training accuracy:87.67471410419314%\n",
            "Epoch:78------> Validation error:0.9586041569709778 Validation accuracy:79.46428571428571% Training error:0.8784442635682913 Training accuracy:87.80177890724269%\n",
            "Epoch:79------> Validation error:0.9579415321350098 Validation accuracy:78.57142857142857% Training error:0.8774350377229544 Training accuracy:88.0559085133418%\n",
            "Epoch:80------> Validation error:0.9573209881782532 Validation accuracy:78.57142857142857% Training error:0.8765020416333125 Training accuracy:88.18297331639135%\n",
            "Epoch:81------> Validation error:0.9567556977272034 Validation accuracy:78.57142857142857% Training error:0.8755274185767541 Training accuracy:88.43710292249047%\n",
            "Epoch:82------> Validation error:0.9561721086502075 Validation accuracy:78.57142857142857% Training error:0.8746239222013034 Training accuracy:88.56416772554003%\n",
            "Epoch:83------> Validation error:0.9556495547294617 Validation accuracy:79.46428571428571% Training error:0.8737139793542715 Training accuracy:88.56416772554003%\n",
            "Epoch:84------> Validation error:0.955167293548584 Validation accuracy:79.46428571428571% Training error:0.8728413169200604 Training accuracy:88.56416772554003%\n",
            "Epoch:85------> Validation error:0.9546961784362793 Validation accuracy:80.35714285714286% Training error:0.8718427007014935 Training accuracy:88.81829733163913%\n",
            "Epoch:86------> Validation error:0.9542137384414673 Validation accuracy:80.35714285714286% Training error:0.8710309863090515 Training accuracy:88.81829733163913%\n",
            "Epoch:87------> Validation error:0.9538179636001587 Validation accuracy:80.35714285714286% Training error:0.870127599972945 Training accuracy:88.9453621346887%\n",
            "Epoch:88------> Validation error:0.9533424973487854 Validation accuracy:80.35714285714286% Training error:0.8693408370018005 Training accuracy:89.07242693773824%\n",
            "Epoch:89------> Validation error:0.9530513286590576 Validation accuracy:80.35714285714286% Training error:0.8684764962929946 Training accuracy:89.07242693773824%\n",
            "Epoch:90------> Validation error:0.9525851011276245 Validation accuracy:80.35714285714286% Training error:0.867862343788147 Training accuracy:89.07242693773824%\n",
            "Epoch:91------> Validation error:0.9523245096206665 Validation accuracy:80.35714285714286% Training error:0.8670333440487201 Training accuracy:89.07242693773824%\n",
            "Epoch:92------> Validation error:0.9519287347793579 Validation accuracy:80.35714285714286% Training error:0.8664396221821125 Training accuracy:89.1994917407878%\n",
            "Epoch:93------> Validation error:0.9516900181770325 Validation accuracy:80.35714285714286% Training error:0.8656547161249014 Training accuracy:89.1994917407878%\n",
            "Epoch:94------> Validation error:0.951373279094696 Validation accuracy:79.46428571428571% Training error:0.8654107543138357 Training accuracy:89.32655654383736%\n",
            "Epoch:95------> Validation error:0.9512448310852051 Validation accuracy:78.57142857142857% Training error:0.8645186332555918 Training accuracy:89.32655654383736%\n",
            "Epoch:96------> Validation error:0.9511040449142456 Validation accuracy:78.57142857142857% Training error:0.8640118287159846 Training accuracy:89.45362134688692%\n",
            "Epoch:97------> Validation error:0.9508504867553711 Validation accuracy:78.57142857142857% Training error:0.8633156372950628 Training accuracy:89.45362134688692%\n",
            "Epoch:98------> Validation error:0.9506972432136536 Validation accuracy:78.57142857142857% Training error:0.8627222776412964 Training accuracy:89.45362134688692%\n",
            "Epoch:99------> Validation error:0.9504774808883667 Validation accuracy:78.57142857142857% Training error:0.8621130493971018 Training accuracy:89.70775095298602%\n",
            "Epoch:100------> Validation error:0.9503363370895386 Validation accuracy:78.57142857142857% Training error:0.861557832131019 Training accuracy:89.70775095298602%\n",
            "Epoch:101------> Validation error:0.9502050876617432 Validation accuracy:78.57142857142857% Training error:0.8610200881958008 Training accuracy:89.96188055908513%\n",
            "Epoch:102------> Validation error:0.9499469995498657 Validation accuracy:78.57142857142857% Training error:0.8603634100693923 Training accuracy:89.96188055908513%\n",
            "Epoch:103------> Validation error:0.9498496055603027 Validation accuracy:79.46428571428571% Training error:0.8597557453008798 Training accuracy:89.96188055908513%\n",
            "Epoch:104------> Validation error:0.9497895240783691 Validation accuracy:79.46428571428571% Training error:0.8592316691692059 Training accuracy:89.83481575603558%\n",
            "Epoch:105------> Validation error:0.9497137665748596 Validation accuracy:79.46428571428571% Training error:0.8585758942824143 Training accuracy:89.83481575603558%\n",
            "Epoch:106------> Validation error:0.950122594833374 Validation accuracy:79.46428571428571% Training error:0.8580774252231305 Training accuracy:89.83481575603558%\n",
            "Epoch:107------> Validation error:0.9501617550849915 Validation accuracy:79.46428571428571% Training error:0.8574944000977737 Training accuracy:89.83481575603558%\n",
            "Epoch:108------> Validation error:0.9509251117706299 Validation accuracy:79.46428571428571% Training error:0.8569779396057129 Training accuracy:89.83481575603558%\n",
            "Epoch:109------> Validation error:0.9517822861671448 Validation accuracy:79.46428571428571% Training error:0.8566103531764104 Training accuracy:89.83481575603558%\n",
            "Epoch:110------> Validation error:0.9520770907402039 Validation accuracy:79.46428571428571% Training error:0.8560514725171603 Training accuracy:89.70775095298602%\n"
          ]
        }
      ],
      "source": [
        "#HINT: note that your training time should not take many days.\n",
        "\n",
        "#TODO:\n",
        "#Pick your hyper parameters\n",
        "max_epoch = 110\n",
        "train_batch = 64\n",
        "test_batch = test_dataset.__len__() #full batch for test dataset\n",
        "learning_rate = 1e-2\n",
        "momentum = 0.8\n",
        "weight_decay = 5e-04\n",
        "\n",
        "#DataLoader objects for mini-batches\n",
        "train_loader = DataLoader(train_dataset,batch_size=train_batch)\n",
        "val_loader = DataLoader(val_dataset,batch_size=val_dataset.__len__())\n",
        "test_loader = DataLoader(test_dataset,batch_size=test_batch)\n",
        "\n",
        "model = FCNet()\n",
        "model = model.to(device)\n",
        "loss_function = nn.CrossEntropyLoss()    \n",
        "optimizer = torch.optim.SGD(model.parameters(), lr=learning_rate, weight_decay=weight_decay)\n",
        "\n",
        "training_loss_per_epoch = []\n",
        "training_accuracy_per_epoch = []\n",
        "validation_accuracy_per_epoch = []\n",
        "validation_loss_per_epoch = []\n",
        "\n",
        "current_min_validation_loss = np.inf #this will be used when saving the best model\n",
        "\n",
        "# TODO: training loop + eval\n",
        "for epoch in range(max_epoch):\n",
        "  model.train()\n",
        "  training_correct = 0\n",
        "  training_loss_per_batch = [] #Mean of this list will be taken for training loss per epoch\n",
        "\n",
        "  #Training\n",
        "  for x_train_batch, y_train_batch in train_loader:\n",
        "    x_train_batch = x_train_batch.to(device)\n",
        "    y_train_batch = y_train_batch.to(device)\n",
        "    y_pred = model(x_train_batch)\n",
        "    l = loss_function(y_pred,y_train_batch)\n",
        "    l.backward()\n",
        "    optimizer.step()\n",
        "    optimizer.zero_grad()\n",
        "    pred = y_pred.argmax(dim=1)\n",
        "    truth = y_train_batch.argmax(dim=1)\n",
        "    training_correct += torch.eq(truth, pred).sum().item()\n",
        "    training_loss_per_batch.append(l.item())\n",
        "  \n",
        "  #Validation\n",
        "  with torch.no_grad():\n",
        "    for x_val, y_val in val_loader:\n",
        "      x_val = x_val.to(device)\n",
        "      y_val = y_val.to(device)\n",
        "      optimizer.zero_grad()\n",
        "      y_pred = model(x_val)\n",
        "      l = loss_function(y_pred,y_val)\n",
        "      pred = y_pred.argmax(dim=1)\n",
        "      truth = y_val.argmax(dim=1)\n",
        "      val_correct = torch.eq(truth, pred).sum().item()\n",
        "      val_accuracy = 100*val_correct/pred.size()[0]\n",
        "      validation_accuracy_per_epoch.append(val_accuracy)\n",
        "      training_accuracy = 100 * training_correct / train_loader.dataset.__len__()\n",
        "      training_accuracy_per_epoch.append(training_accuracy)\n",
        "      validation_loss_per_epoch.append(l.item())\n",
        "      training_loss = np.mean(training_loss_per_batch)\n",
        "      training_loss_per_epoch.append(training_loss)\n",
        "      #Save the best model per epoch\n",
        "      #validation loss is seletected as a metric for this process\n",
        "      avg_validation_error = np.mean(validation_loss_per_epoch)\n",
        "      if avg_validation_error < current_min_validation_loss:\n",
        "        torch.save(model,\"best_fcn_model.pth\")\n",
        "        current_min_validation_loss = avg_validation_error\n",
        "      print(f\"Epoch:{epoch+1}------> Validation error:{l.item()} Validation accuracy:{val_accuracy}% Training error:{training_loss} Training accuracy:{training_accuracy}%\")\n",
        "\n",
        "\n"
      ]
    },
    {
      "cell_type": "markdown",
      "metadata": {
        "id": "AerO0TZ0gAJa"
      },
      "source": [
        "### Learning Process Analysis [5 points]\n",
        "Following the training step, you will now provide accuracy and loss plots over all epochs. For this, provide two plots:\n",
        "- In the first plot, you will provide the value of the accuracy metric over epochs. Your plot should include two curves, one for the training set and the other for the validation set.\n",
        "- For the second plot, provide the curve for loss values over epochs. Again your plot should include two curves, where one indicates loss on the training set and the second indicates loss for the validation set."
      ]
    },
    {
      "cell_type": "code",
      "execution_count": null,
      "metadata": {
        "id": "iiXtRpe9RI11",
        "colab": {
          "base_uri": "https://localhost:8080/",
          "height": 282
        },
        "outputId": "b6cc6d08-5732-4fa0-ae54-83409c6e49d4"
      },
      "outputs": [
        {
          "output_type": "display_data",
          "data": {
            "text/plain": [
              "<Figure size 1080x288 with 2 Axes>"
            ],
            "image/png": "[encoded data removed]"
          },
          "metadata": {
            "needs_background": "light"
          }
        }
      ],
      "source": [
        "# TODO: Implement your plots here, you can use matplotlib library to do so.\n",
        "fig,ax = plt.subplots(1,2,figsize=(15,4))\n",
        "ax[0].plot([x for x in range(1,max_epoch+1)],validation_accuracy_per_epoch,color=\"blue\",label=\"Validation\")\n",
        "ax[0].plot([x for x in range(1,max_epoch+1)],training_accuracy_per_epoch,color=\"red\",label=\"Training\")\n",
        "ax[0].set_xlabel(\"Number of Epochs\")\n",
        "ax[0].set_ylabel(\"Accuracy (%)\")\n",
        "ax[0].legend(loc=\"best\")\n",
        "ax[1].plot([x for x in range(1,max_epoch+1)],validation_loss_per_epoch,color=\"blue\",label=\"Validation\")\n",
        "ax[1].plot([x for x in range(1,max_epoch+1)],training_loss_per_epoch,color=\"red\",label=\"Training\")\n",
        "ax[1].set_xlabel(\"Number of Epochs\")\n",
        "ax[1].set_ylabel(\"Loss\")\n",
        "ax[1].legend(loc=\"best\")\n",
        "plt.show()"
      ]
    },
    {
      "cell_type": "markdown",
      "metadata": {
        "id": "y0ZcDuLQQysp"
      },
      "source": [
        "### Test [5 points]\n",
        "As the final step of your analysis, you will test your model using some metrics. For the best model you obtained during training, evaluate your model on the test set. Then, report the confusion matrix. Finally, report accuracy, precision, recall, and $F_1$ score using your model. Report all these metrics using the macro form (macro precision, macro recall, etc.). You can implement these metrics in the cell below. "
      ]
    },
    {
      "cell_type": "code",
      "execution_count": null,
      "metadata": {
        "id": "ptAiYhAIR6O5",
        "colab": {
          "base_uri": "https://localhost:8080/",
          "height": 368
        },
        "outputId": "4169f676-60a7-4a4e-ef20-e47b7df35b02"
      },
      "outputs": [
        {
          "output_type": "stream",
          "name": "stdout",
          "text": [
            "Accuracy: 0.8672566371681416\n",
            "Macro Recall: 0.863999766573296\n",
            "Macro Precision: 0.8561075962096529\n",
            "Macro F1 Score: 0.8589791213938747\n"
          ]
        },
        {
          "output_type": "display_data",
          "data": {
            "text/plain": [
              "<Figure size 432x288 with 2 Axes>"
            ],
            "image/png": "[encoded data removed]"
          },
          "metadata": {
            "needs_background": "light"
          }
        }
      ],
      "source": [
        "# TODO: Implement your evaluation script here, provide the confusion matrix and the requested metrics\n",
        "model = torch.load(\"best_fcn_model.pth\")\n",
        "model.eval()\n",
        "\n",
        "with torch.no_grad():\n",
        "  for x_test_batch, y_test_batch in test_loader: #full batch\n",
        "    x_test_batch = x_test_batch.to(device)\n",
        "    y_test_batch = y_test_batch.to(device)\n",
        "    y_pred = model(x_test_batch)\n",
        "    l = loss_function(y_pred,y_test_batch)\n",
        "    pred = y_pred.argmax(dim=1).cpu()\n",
        "    truth = y_test_batch.argmax(dim=1).cpu()\n",
        "    accuracy = accuracy_score(truth,pred)    \n",
        "    recall_macro = recall_score(truth,pred,average=\"macro\")   \n",
        "    precision_macro = precision_score(truth,pred,average=\"macro\")\n",
        "    f1_score_macro = f1_score(truth,pred,average=\"macro\")\n",
        "    cmatrix = confusion_matrix(truth,pred)\n",
        "    print(f\"Accuracy: {accuracy}\")\n",
        "    print(f\"Macro Recall: {recall_macro}\")\n",
        "    print(f\"Macro Precision: {precision_macro}\")\n",
        "    print(f\"Macro F1 Score: {f1_score_macro}\")\n",
        "    sns.heatmap(cmatrix, annot=True)\n",
        "    plt.title(\"Confusion Matrix on Test Set\")\n",
        "    plt.ylabel(\"Actual\")\n",
        "    plt.xlabel(\"Prediction\")"
      ]
    },
    {
      "cell_type": "markdown",
      "metadata": {
        "id": "fVgI--N4B7lR"
      },
      "source": [
        "## Training and evaluation of CNN [22 points]\n",
        "Similar to the FCN model, you will now train the CNN model that you defined before. Again you are free to try out different hyperparameters. This model also will classify weather images with the four classes provided by the dataset. As the optimizer, again, use the SGD implementation provided by PyTorch. You can implement the training loop in the following cell. \n",
        "\n",
        "Similar to the training procedure, you need to save the best model you obtain during training. Select an appropriate criterion (metric) to save the best model. If you wish, you can add a markdown cell to explain your reasoning."
      ]
    },
    {
      "cell_type": "markdown",
      "metadata": {
        "id": "mw1OF9Fl42Bc"
      },
      "source": [
        "### Training [12 points]"
      ]
    },
    {
      "cell_type": "code",
      "execution_count": null,
      "metadata": {
        "id": "gsEdzn4ON9fx",
        "colab": {
          "base_uri": "https://localhost:8080/"
        },
        "outputId": "d7ae9094-fdd5-44fc-f235-ad4a7447ee75"
      },
      "outputs": [
        {
          "output_type": "stream",
          "name": "stdout",
          "text": [
            "Epoch:1------> Validation error:1.3820229768753052 Validation accuracy:29.464285714285715% Training error:1.3844428154138417 Training accuracy:29.35196950444727%\n",
            "Epoch:2------> Validation error:1.3774237632751465 Validation accuracy:29.464285714285715% Training error:1.37949761060568 Training accuracy:32.020330368487926%\n",
            "Epoch:3------> Validation error:1.3722859621047974 Validation accuracy:29.464285714285715% Training error:1.3740112139628484 Training accuracy:32.020330368487926%\n",
            "Epoch:4------> Validation error:1.3663785457611084 Validation accuracy:29.464285714285715% Training error:1.3677332492975087 Training accuracy:32.020330368487926%\n",
            "Epoch:5------> Validation error:1.3596237897872925 Validation accuracy:29.464285714285715% Training error:1.3605241133616521 Training accuracy:32.020330368487926%\n",
            "Epoch:6------> Validation error:1.3521764278411865 Validation accuracy:29.464285714285715% Training error:1.3525221622907198 Training accuracy:32.020330368487926%\n",
            "Epoch:7------> Validation error:1.3441369533538818 Validation accuracy:29.464285714285715% Training error:1.3440831624544585 Training accuracy:32.020330368487926%\n",
            "Epoch:8------> Validation error:1.3351836204528809 Validation accuracy:29.464285714285715% Training error:1.3352902760872474 Training accuracy:32.020330368487926%\n",
            "Epoch:9------> Validation error:1.3248140811920166 Validation accuracy:29.464285714285715% Training error:1.3257429141264696 Training accuracy:32.020330368487926%\n",
            "Epoch:10------> Validation error:1.312801718711853 Validation accuracy:29.464285714285715% Training error:1.3149619927773109 Training accuracy:32.020330368487926%\n",
            "Epoch:11------> Validation error:1.299252986907959 Validation accuracy:29.464285714285715% Training error:1.3027698535185595 Training accuracy:32.020330368487926%\n",
            "Epoch:12------> Validation error:1.2844834327697754 Validation accuracy:29.464285714285715% Training error:1.2893369106146007 Training accuracy:32.020330368487926%\n",
            "Epoch:13------> Validation error:1.269022822380066 Validation accuracy:29.464285714285715% Training error:1.275100983106173 Training accuracy:32.020330368487926%\n",
            "Epoch:14------> Validation error:1.2534921169281006 Validation accuracy:34.82142857142857% Training error:1.2606251881672785 Training accuracy:32.52858958068615%\n",
            "Epoch:15------> Validation error:1.238478660583496 Validation accuracy:45.535714285714285% Training error:1.2464419603347778 Training accuracy:40.27954256670902%\n",
            "Epoch:16------> Validation error:1.2244811058044434 Validation accuracy:54.464285714285715% Training error:1.233045247884897 Training accuracy:48.792884371029224%\n",
            "Epoch:17------> Validation error:1.2117650508880615 Validation accuracy:58.92857142857143% Training error:1.2207992718769953 Training accuracy:53.1130876747141%\n",
            "Epoch:18------> Validation error:1.20036780834198 Validation accuracy:58.92857142857143% Training error:1.2098432320814867 Training accuracy:55.52731893265565%\n",
            "Epoch:19------> Validation error:1.1902215480804443 Validation accuracy:58.92857142857143% Training error:1.200172415146461 Training accuracy:55.90851334180432%\n",
            "Epoch:20------> Validation error:1.1812199354171753 Validation accuracy:58.92857142857143% Training error:1.191676561649029 Training accuracy:56.16264294790343%\n",
            "Epoch:21------> Validation error:1.1732680797576904 Validation accuracy:58.92857142857143% Training error:1.1842265954384437 Training accuracy:56.41677255400254%\n",
            "Epoch:22------> Validation error:1.1662431955337524 Validation accuracy:58.92857142857143% Training error:1.1776938621814435 Training accuracy:56.5438373570521%\n",
            "Epoch:23------> Validation error:1.160010576248169 Validation accuracy:60.714285714285715% Training error:1.171940198311439 Training accuracy:56.670902160101654%\n",
            "Epoch:24------> Validation error:1.1544440984725952 Validation accuracy:61.607142857142854% Training error:1.1668286598645723 Training accuracy:57.17916137229987%\n",
            "Epoch:25------> Validation error:1.1494319438934326 Validation accuracy:61.607142857142854% Training error:1.1622354158988366 Training accuracy:57.941550190597205%\n",
            "Epoch:26------> Validation error:1.1448677778244019 Validation accuracy:62.5% Training error:1.158051142325768 Training accuracy:59.593392630241425%\n",
            "Epoch:27------> Validation error:1.1406490802764893 Validation accuracy:63.392857142857146% Training error:1.154179756457989 Training accuracy:61.245235069885645%\n",
            "Epoch:28------> Validation error:1.1366753578186035 Validation accuracy:64.28571428571429% Training error:1.1505316954392653 Training accuracy:62.77001270648031%\n",
            "Epoch:29------> Validation error:1.1328577995300293 Validation accuracy:65.17857142857143% Training error:1.1470202941160936 Training accuracy:63.405336721728084%\n",
            "Epoch:30------> Validation error:1.1291098594665527 Validation accuracy:67.85714285714286% Training error:1.143569515301631 Training accuracy:63.53240152477764%\n",
            "Epoch:31------> Validation error:1.125346302986145 Validation accuracy:68.75% Training error:1.1401017537483802 Training accuracy:64.67598475222363%\n",
            "Epoch:32------> Validation error:1.121484398841858 Validation accuracy:70.53571428571429% Training error:1.136538835672232 Training accuracy:65.81956797966963%\n",
            "Epoch:33------> Validation error:1.1174569129943848 Validation accuracy:72.32142857142857% Training error:1.132806631234976 Training accuracy:66.20076238881829%\n",
            "Epoch:34------> Validation error:1.113210916519165 Validation accuracy:75.0% Training error:1.12885686984429 Training accuracy:66.70902160101652%\n",
            "Epoch:35------> Validation error:1.1087263822555542 Validation accuracy:74.10714285714286% Training error:1.124625591131357 Training accuracy:68.36086404066074%\n",
            "Epoch:36------> Validation error:1.1039119958877563 Validation accuracy:75.0% Training error:1.1200506687164307 Training accuracy:70.1397712833545%\n",
            "Epoch:37------> Validation error:1.098691463470459 Validation accuracy:73.21428571428571% Training error:1.1150167721968431 Training accuracy:70.39390088945362%\n",
            "Epoch:38------> Validation error:1.093032717704773 Validation accuracy:71.42857142857143% Training error:1.1094396847944994 Training accuracy:70.52096569250318%\n",
            "Epoch:39------> Validation error:1.086899995803833 Validation accuracy:71.42857142857143% Training error:1.103238004904527 Training accuracy:71.0292249047014%\n",
            "Epoch:40------> Validation error:1.080293893814087 Validation accuracy:72.32142857142857% Training error:1.0963291755089393 Training accuracy:71.2833545108005%\n",
            "Epoch:41------> Validation error:1.073257565498352 Validation accuracy:71.42857142857143% Training error:1.0886604235722468 Training accuracy:71.41041931385007%\n",
            "Epoch:42------> Validation error:1.0659915208816528 Validation accuracy:72.32142857142857% Training error:1.080198077055124 Training accuracy:71.79161372299873%\n",
            "Epoch:43------> Validation error:1.0586289167404175 Validation accuracy:72.32142857142857% Training error:1.0708238986822276 Training accuracy:71.91867852604828%\n",
            "Epoch:44------> Validation error:1.0513032674789429 Validation accuracy:72.32142857142857% Training error:1.060197665141179 Training accuracy:71.91867852604828%\n",
            "Epoch:45------> Validation error:1.0442928075790405 Validation accuracy:75.0% Training error:1.0480260848999023 Training accuracy:74.33290978398983%\n",
            "Epoch:46------> Validation error:1.0374977588653564 Validation accuracy:75.89285714285714% Training error:1.0351767173180213 Training accuracy:76.11181702668361%\n",
            "Epoch:47------> Validation error:1.0305882692337036 Validation accuracy:76.78571428571429% Training error:1.0230230964147127 Training accuracy:78.27191867852605%\n",
            "Epoch:48------> Validation error:1.0240777730941772 Validation accuracy:77.67857142857143% Training error:1.0118315403278058 Training accuracy:80.43202033036849%\n",
            "Epoch:49------> Validation error:1.0183584690093994 Validation accuracy:77.67857142857143% Training error:1.0015326463259184 Training accuracy:81.19440914866583%\n",
            "Epoch:50------> Validation error:1.0135055780410767 Validation accuracy:75.0% Training error:0.992141109246474 Training accuracy:82.21092757306226%\n",
            "Epoch:51------> Validation error:1.0094660520553589 Validation accuracy:75.89285714285714% Training error:0.9836977353462806 Training accuracy:82.33799237611181%\n",
            "Epoch:52------> Validation error:1.00613534450531 Validation accuracy:74.10714285714286% Training error:0.9761931300163269 Training accuracy:82.21092757306226%\n",
            "Epoch:53------> Validation error:1.0033878087997437 Validation accuracy:72.32142857142857% Training error:0.9695606185839727 Training accuracy:82.0838627700127%\n",
            "Epoch:54------> Validation error:1.0010961294174194 Validation accuracy:72.32142857142857% Training error:0.963715489094074 Training accuracy:82.21092757306226%\n",
            "Epoch:55------> Validation error:0.9991556406021118 Validation accuracy:73.21428571428571% Training error:0.9585495086816641 Training accuracy:82.21092757306226%\n",
            "Epoch:56------> Validation error:0.9974766969680786 Validation accuracy:74.10714285714286% Training error:0.9539642792481643 Training accuracy:82.33799237611181%\n",
            "Epoch:57------> Validation error:0.9959855079650879 Validation accuracy:74.10714285714286% Training error:0.9498553780409006 Training accuracy:82.33799237611181%\n",
            "Epoch:58------> Validation error:0.9946252107620239 Validation accuracy:73.21428571428571% Training error:0.9461495509514442 Training accuracy:82.46505717916138%\n",
            "Epoch:59------> Validation error:0.9933560490608215 Validation accuracy:73.21428571428571% Training error:0.9427807743732746 Training accuracy:82.71918678526048%\n",
            "Epoch:60------> Validation error:0.992150068283081 Validation accuracy:73.21428571428571% Training error:0.9396887008960431 Training accuracy:83.2274459974587%\n",
            "Epoch:61------> Validation error:0.9909883737564087 Validation accuracy:73.21428571428571% Training error:0.9368480352255014 Training accuracy:83.35451080050827%\n",
            "Epoch:62------> Validation error:0.9898551106452942 Validation accuracy:73.21428571428571% Training error:0.9342141105578496 Training accuracy:83.35451080050827%\n",
            "Epoch:63------> Validation error:0.9887444376945496 Validation accuracy:72.32142857142857% Training error:0.9317640524644119 Training accuracy:83.2274459974587%\n",
            "Epoch:64------> Validation error:0.9876587986946106 Validation accuracy:72.32142857142857% Training error:0.9294857382774353 Training accuracy:83.2274459974587%\n",
            "Epoch:65------> Validation error:0.9865954518318176 Validation accuracy:73.21428571428571% Training error:0.927359938621521 Training accuracy:83.35451080050827%\n",
            "Epoch:66------> Validation error:0.9855700135231018 Validation accuracy:73.21428571428571% Training error:0.9253694415092468 Training accuracy:83.48157560355781%\n",
            "Epoch:67------> Validation error:0.9845738410949707 Validation accuracy:74.10714285714286% Training error:0.9235139810121976 Training accuracy:83.60864040660736%\n",
            "Epoch:68------> Validation error:0.9836195707321167 Validation accuracy:74.10714285714286% Training error:0.9217679317180927 Training accuracy:83.60864040660736%\n",
            "Epoch:69------> Validation error:0.9827029705047607 Validation accuracy:74.10714285714286% Training error:0.9201296292818509 Training accuracy:83.60864040660736%\n",
            "Epoch:70------> Validation error:0.9818335771560669 Validation accuracy:75.0% Training error:0.9185929527649512 Training accuracy:83.73570520965693%\n",
            "Epoch:71------> Validation error:0.9809888005256653 Validation accuracy:74.10714285714286% Training error:0.9171484479537377 Training accuracy:83.86277001270648%\n",
            "Epoch:72------> Validation error:0.9801881909370422 Validation accuracy:75.0% Training error:0.9157832219050481 Training accuracy:83.86277001270648%\n",
            "Epoch:73------> Validation error:0.9794164299964905 Validation accuracy:75.0% Training error:0.9144972746188824 Training accuracy:83.98983481575604%\n",
            "Epoch:74------> Validation error:0.978665828704834 Validation accuracy:75.89285714285714% Training error:0.9132662461354182 Training accuracy:84.11689961880559%\n",
            "Epoch:75------> Validation error:0.9779354333877563 Validation accuracy:75.89285714285714% Training error:0.9120999941459069 Training accuracy:84.11689961880559%\n",
            "Epoch:76------> Validation error:0.9772325158119202 Validation accuracy:75.89285714285714% Training error:0.9109820265036362 Training accuracy:84.24396442185514%\n",
            "Epoch:77------> Validation error:0.9765475988388062 Validation accuracy:75.89285714285714% Training error:0.9099151537968562 Training accuracy:84.3710292249047%\n",
            "Epoch:78------> Validation error:0.9758833646774292 Validation accuracy:75.89285714285714% Training error:0.9088809857001672 Training accuracy:84.49809402795425%\n",
            "Epoch:79------> Validation error:0.975233793258667 Validation accuracy:75.89285714285714% Training error:0.907874584197998 Training accuracy:84.49809402795425%\n",
            "Epoch:80------> Validation error:0.9745990037918091 Validation accuracy:75.89285714285714% Training error:0.9068993880198553 Training accuracy:84.49809402795425%\n",
            "Epoch:81------> Validation error:0.9739874005317688 Validation accuracy:75.89285714285714% Training error:0.9059337927744939 Training accuracy:84.62515883100382%\n",
            "Epoch:82------> Validation error:0.9733859896659851 Validation accuracy:75.89285714285714% Training error:0.9049853407419645 Training accuracy:84.62515883100382%\n",
            "Epoch:83------> Validation error:0.9728044271469116 Validation accuracy:75.89285714285714% Training error:0.9040494698744553 Training accuracy:84.75222363405337%\n",
            "Epoch:84------> Validation error:0.9722304344177246 Validation accuracy:76.78571428571429% Training error:0.9031114028050349 Training accuracy:84.62515883100382%\n",
            "Epoch:85------> Validation error:0.9716663956642151 Validation accuracy:76.78571428571429% Training error:0.9021742022954501 Training accuracy:84.62515883100382%\n",
            "Epoch:86------> Validation error:0.9711134433746338 Validation accuracy:76.78571428571429% Training error:0.9012412199607263 Training accuracy:84.87928843710293%\n",
            "Epoch:87------> Validation error:0.9705844521522522 Validation accuracy:77.67857142857143% Training error:0.9003060230842004 Training accuracy:84.87928843710293%\n",
            "Epoch:88------> Validation error:0.9700711965560913 Validation accuracy:77.67857142857143% Training error:0.8993760484915513 Training accuracy:85.13341804320203%\n",
            "Epoch:89------> Validation error:0.9695619344711304 Validation accuracy:77.67857142857143% Training error:0.8984500536551843 Training accuracy:85.26048284625159%\n",
            "Epoch:90------> Validation error:0.9690606594085693 Validation accuracy:77.67857142857143% Training error:0.8975273279043344 Training accuracy:85.26048284625159%\n",
            "Epoch:91------> Validation error:0.9685840606689453 Validation accuracy:77.67857142857143% Training error:0.8966025389157809 Training accuracy:85.26048284625159%\n",
            "Epoch:92------> Validation error:0.9681215286254883 Validation accuracy:75.89285714285714% Training error:0.895688350384052 Training accuracy:85.64167725540025%\n",
            "Epoch:93------> Validation error:0.9676825404167175 Validation accuracy:75.89285714285714% Training error:0.8947765231132507 Training accuracy:85.5146124523507%\n",
            "Epoch:94------> Validation error:0.9672456979751587 Validation accuracy:76.78571428571429% Training error:0.8938758510809678 Training accuracy:85.5146124523507%\n",
            "Epoch:95------> Validation error:0.9668331742286682 Validation accuracy:76.78571428571429% Training error:0.8929821115273696 Training accuracy:85.64167725540025%\n",
            "Epoch:96------> Validation error:0.9664300084114075 Validation accuracy:76.78571428571429% Training error:0.8920934658784133 Training accuracy:85.5146124523507%\n",
            "Epoch:97------> Validation error:0.9660544395446777 Validation accuracy:76.78571428571429% Training error:0.891209716980274 Training accuracy:85.5146124523507%\n",
            "Epoch:98------> Validation error:0.9656819105148315 Validation accuracy:76.78571428571429% Training error:0.8903398651343125 Training accuracy:85.64167725540025%\n",
            "Epoch:99------> Validation error:0.965319037437439 Validation accuracy:76.78571428571429% Training error:0.8894746257708623 Training accuracy:85.7687420584498%\n",
            "Epoch:100------> Validation error:0.9649715423583984 Validation accuracy:76.78571428571429% Training error:0.8886153835516709 Training accuracy:85.89580686149937%\n",
            "Epoch:101------> Validation error:0.9646418690681458 Validation accuracy:77.67857142857143% Training error:0.887763656102694 Training accuracy:86.14993646759848%\n",
            "Epoch:102------> Validation error:0.964316189289093 Validation accuracy:76.78571428571429% Training error:0.8869240559064425 Training accuracy:86.27700127064803%\n",
            "Epoch:103------> Validation error:0.9639800190925598 Validation accuracy:76.78571428571429% Training error:0.8860951616213872 Training accuracy:86.40406607369759%\n",
            "Epoch:104------> Validation error:0.9636605381965637 Validation accuracy:76.78571428571429% Training error:0.8852698390300457 Training accuracy:86.9123252858958%\n",
            "Epoch:105------> Validation error:0.963336169719696 Validation accuracy:76.78571428571429% Training error:0.8844578587091886 Training accuracy:87.29351969504447%\n",
            "Epoch:106------> Validation error:0.9629999995231628 Validation accuracy:76.78571428571429% Training error:0.8836589318055373 Training accuracy:87.29351969504447%\n",
            "Epoch:107------> Validation error:0.9626789689064026 Validation accuracy:76.78571428571429% Training error:0.8828712564248306 Training accuracy:87.42058449809403%\n",
            "Epoch:108------> Validation error:0.9623996615409851 Validation accuracy:76.78571428571429% Training error:0.8820823981211736 Training accuracy:87.54764930114358%\n",
            "Epoch:109------> Validation error:0.9620271325111389 Validation accuracy:76.78571428571429% Training error:0.8813262627674983 Training accuracy:87.80177890724269%\n",
            "Epoch:110------> Validation error:0.9616698026657104 Validation accuracy:76.78571428571429% Training error:0.8805724886747507 Training accuracy:87.80177890724269%\n",
            "Epoch:111------> Validation error:0.961310863494873 Validation accuracy:75.89285714285714% Training error:0.8798368619038508 Training accuracy:87.92884371029226%\n",
            "Epoch:112------> Validation error:0.9609609842300415 Validation accuracy:75.89285714285714% Training error:0.8791114550370437 Training accuracy:87.92884371029226%\n",
            "Epoch:113------> Validation error:0.9606368541717529 Validation accuracy:75.89285714285714% Training error:0.8783994775552016 Training accuracy:88.0559085133418%\n",
            "Epoch:114------> Validation error:0.9603186845779419 Validation accuracy:75.89285714285714% Training error:0.8777052622575027 Training accuracy:88.18297331639135%\n",
            "Epoch:115------> Validation error:0.9600335955619812 Validation accuracy:75.89285714285714% Training error:0.8770218904201801 Training accuracy:88.31003811944092%\n",
            "Epoch:116------> Validation error:0.9597666263580322 Validation accuracy:75.89285714285714% Training error:0.8763517508139977 Training accuracy:88.43710292249047%\n",
            "Epoch:117------> Validation error:0.9595275521278381 Validation accuracy:75.89285714285714% Training error:0.8756913955395038 Training accuracy:88.43710292249047%\n",
            "Epoch:118------> Validation error:0.9593127369880676 Validation accuracy:75.89285714285714% Training error:0.8750497469535241 Training accuracy:88.31003811944092%\n",
            "Epoch:119------> Validation error:0.9591377973556519 Validation accuracy:75.89285714285714% Training error:0.8744174471268287 Training accuracy:88.31003811944092%\n",
            "Epoch:120------> Validation error:0.9589770436286926 Validation accuracy:75.89285714285714% Training error:0.8738063252889193 Training accuracy:88.43710292249047%\n",
            "Epoch:121------> Validation error:0.9588501453399658 Validation accuracy:76.78571428571429% Training error:0.8732001185417175 Training accuracy:88.31003811944092%\n",
            "Epoch:122------> Validation error:0.9587451815605164 Validation accuracy:76.78571428571429% Training error:0.8726160526275635 Training accuracy:88.43710292249047%\n",
            "Epoch:123------> Validation error:0.9586678743362427 Validation accuracy:76.78571428571429% Training error:0.8720378554784335 Training accuracy:88.43710292249047%\n",
            "Epoch:124------> Validation error:0.9586185216903687 Validation accuracy:76.78571428571429% Training error:0.8714649906525245 Training accuracy:88.43710292249047%\n",
            "Epoch:125------> Validation error:0.9585989713668823 Validation accuracy:76.78571428571429% Training error:0.8708876967430115 Training accuracy:88.43710292249047%\n",
            "Epoch:126------> Validation error:0.958600640296936 Validation accuracy:76.78571428571429% Training error:0.8703143321550809 Training accuracy:88.56416772554003%\n",
            "Epoch:127------> Validation error:0.9586285352706909 Validation accuracy:76.78571428571429% Training error:0.869739280297206 Training accuracy:88.9453621346887%\n",
            "Epoch:128------> Validation error:0.9586763978004456 Validation accuracy:76.78571428571429% Training error:0.8691442654683039 Training accuracy:88.9453621346887%\n",
            "Epoch:129------> Validation error:0.9587453007698059 Validation accuracy:76.78571428571429% Training error:0.8685416120749253 Training accuracy:88.9453621346887%\n",
            "Epoch:130------> Validation error:0.9588327407836914 Validation accuracy:76.78571428571429% Training error:0.8679028245118948 Training accuracy:89.07242693773824%\n",
            "Epoch:131------> Validation error:0.9589344263076782 Validation accuracy:76.78571428571429% Training error:0.867247787805704 Training accuracy:89.07242693773824%\n",
            "Epoch:132------> Validation error:0.9590427875518799 Validation accuracy:76.78571428571429% Training error:0.8665572496560904 Training accuracy:89.32655654383736%\n",
            "Epoch:133------> Validation error:0.9591538310050964 Validation accuracy:76.78571428571429% Training error:0.8658572343679575 Training accuracy:89.58068614993647%\n",
            "Epoch:134------> Validation error:0.9592522382736206 Validation accuracy:76.78571428571429% Training error:0.8651359677314758 Training accuracy:89.58068614993647%\n",
            "Epoch:135------> Validation error:0.9593415260314941 Validation accuracy:76.78571428571429% Training error:0.8644001025419968 Training accuracy:89.58068614993647%\n",
            "Epoch:136------> Validation error:0.9593956470489502 Validation accuracy:75.89285714285714% Training error:0.8636424541473389 Training accuracy:89.58068614993647%\n",
            "Epoch:137------> Validation error:0.9594120979309082 Validation accuracy:75.89285714285714% Training error:0.8628961122952975 Training accuracy:89.58068614993647%\n",
            "Epoch:138------> Validation error:0.9593633413314819 Validation accuracy:75.89285714285714% Training error:0.8621443831003629 Training accuracy:89.83481575603558%\n",
            "Epoch:139------> Validation error:0.9592486023902893 Validation accuracy:75.89285714285714% Training error:0.8614127590106084 Training accuracy:89.70775095298602%\n",
            "Epoch:140------> Validation error:0.9590824842453003 Validation accuracy:76.78571428571429% Training error:0.8607340363355783 Training accuracy:89.70775095298602%\n",
            "Epoch:141------> Validation error:0.9589183330535889 Validation accuracy:76.78571428571429% Training error:0.86015561910776 Training accuracy:89.83481575603558%\n",
            "Epoch:142------> Validation error:0.9587466716766357 Validation accuracy:77.67857142857143% Training error:0.8596802170460041 Training accuracy:89.96188055908513%\n",
            "Epoch:143------> Validation error:0.9585301876068115 Validation accuracy:77.67857142857143% Training error:0.8592490095358628 Training accuracy:89.83481575603558%\n",
            "Epoch:144------> Validation error:0.9582837224006653 Validation accuracy:77.67857142857143% Training error:0.8587852028700022 Training accuracy:89.58068614993647%\n",
            "Epoch:145------> Validation error:0.9580343961715698 Validation accuracy:77.67857142857143% Training error:0.8582485822530893 Training accuracy:89.58068614993647%\n",
            "Epoch:146------> Validation error:0.9578149318695068 Validation accuracy:77.67857142857143% Training error:0.8575916519531837 Training accuracy:89.45362134688692%\n",
            "Epoch:147------> Validation error:0.9576442241668701 Validation accuracy:76.78571428571429% Training error:0.8569646798647367 Training accuracy:89.83481575603558%\n",
            "Epoch:148------> Validation error:0.9575235247612 Validation accuracy:76.78571428571429% Training error:0.8563511279913095 Training accuracy:89.83481575603558%\n",
            "Epoch:149------> Validation error:0.957446277141571 Validation accuracy:76.78571428571429% Training error:0.8557864381716802 Training accuracy:89.96188055908513%\n",
            "Epoch:150------> Validation error:0.9573949575424194 Validation accuracy:76.78571428571429% Training error:0.8552917242050171 Training accuracy:89.96188055908513%\n"
          ]
        }
      ],
      "source": [
        "#HINT: note that your training time should not take many days.\n",
        "\n",
        "#TODO:\n",
        "#Pick your hyper parameters\n",
        "max_epoch = 150\n",
        "train_batch = 64\n",
        "test_batch = test_dataset.__len__() #full batch for test dataset\n",
        "learning_rate = 6e-3\n",
        "momentum = 0.8\n",
        "weight_decay = 5e-04\n",
        "\n",
        "#DataLoader objects for mini-batches\n",
        "train_loader = DataLoader(train_dataset,batch_size=train_batch)\n",
        "val_loader = DataLoader(val_dataset,batch_size=val_dataset.__len__())\n",
        "test_loader = DataLoader(test_dataset,batch_size=test_batch)\n",
        "\n",
        "model = ConvNet()\n",
        "model = model.to(device)\n",
        "loss_function = nn.CrossEntropyLoss()    \n",
        "optimizer = torch.optim.SGD(model.parameters(), lr=learning_rate, weight_decay=weight_decay)\n",
        "\n",
        "training_loss_per_epoch = []\n",
        "training_accuracy_per_epoch = []\n",
        "validation_accuracy_per_epoch = []\n",
        "validation_loss_per_epoch = []\n",
        "\n",
        "current_min_validation_loss = np.inf #this will be used when saving the best model\n",
        "\n",
        "# TODO: training loop + eval\n",
        "for epoch in range(max_epoch):\n",
        "  model.train()\n",
        "  training_correct = 0\n",
        "  training_loss_per_batch = [] #Mean of this list will be taken for training loss per epoch\n",
        "\n",
        "  #Training\n",
        "  for x_train_batch, y_train_batch in train_loader:\n",
        "    x_train_batch = x_train_batch.to(device)\n",
        "    y_train_batch = y_train_batch.to(device)\n",
        "    y_pred = model(x_train_batch)\n",
        "    l = loss_function(y_pred,y_train_batch)\n",
        "    l.backward()\n",
        "    optimizer.step()\n",
        "    optimizer.zero_grad()\n",
        "    pred = y_pred.argmax(dim=1)\n",
        "    truth = y_train_batch.argmax(dim=1)\n",
        "    training_correct += torch.eq(truth, pred).sum().item()\n",
        "    training_loss_per_batch.append(l.item())\n",
        "  \n",
        "  #Validation\n",
        "  with torch.no_grad():\n",
        "    for x_val, y_val in val_loader:\n",
        "      x_val = x_val.to(device)\n",
        "      y_val = y_val.to(device)\n",
        "      optimizer.zero_grad()\n",
        "      y_pred = model(x_val)\n",
        "      l = loss_function(y_pred,y_val)\n",
        "      pred = y_pred.argmax(dim=1)\n",
        "      truth = y_val.argmax(dim=1)\n",
        "      val_correct = torch.eq(truth, pred).sum().item()\n",
        "      val_accuracy = 100*val_correct/pred.size()[0]\n",
        "      validation_accuracy_per_epoch.append(val_accuracy)\n",
        "      training_accuracy = 100 * training_correct / train_loader.dataset.__len__()\n",
        "      training_accuracy_per_epoch.append(training_accuracy)\n",
        "      validation_loss_per_epoch.append(l.item())\n",
        "      training_loss = np.mean(training_loss_per_batch)\n",
        "      training_loss_per_epoch.append(training_loss)\n",
        "      #Save the best model per epoch\n",
        "      #validation loss is seletected as a metric for this process\n",
        "      avg_validation_error = np.mean(validation_loss_per_epoch)\n",
        "      if avg_validation_error < current_min_validation_loss:\n",
        "        torch.save(model,\"best_cnn_model.pth\")\n",
        "        current_min_validation_loss = avg_validation_error\n",
        "      print(f\"Epoch:{epoch+1}------> Validation error:{l.item()} Validation accuracy:{val_accuracy}% Training error:{training_loss} Training accuracy:{training_accuracy}%\")"
      ]
    },
    {
      "cell_type": "markdown",
      "metadata": {
        "id": "vOiPy1hI44gy"
      },
      "source": [
        "### Learning Process Analysis [3 points]\n",
        "Repeating the same procedure you applied for the FCN model; you will provide two plots about how your training proceeds over epochs. Again, provide two plots: one summarizes the loss values, and the other summarizes the accuracy values. Note that each plot needs to include two curves, one for the validation set and the other for the training set."
      ]
    },
    {
      "cell_type": "code",
      "execution_count": null,
      "metadata": {
        "id": "lFwAi_zPelX6",
        "colab": {
          "base_uri": "https://localhost:8080/",
          "height": 279
        },
        "outputId": "29a0bad5-319c-4dd3-c354-e43be52a3d5e"
      },
      "outputs": [
        {
          "output_type": "display_data",
          "data": {
            "text/plain": [
              "<Figure size 1080x288 with 2 Axes>"
            ],
            "image/png": "[encoded data removed]"
          },
          "metadata": {
            "needs_background": "light"
          }
        }
      ],
      "source": [
        "# TODO: Implement your plots here, you can use matplotlib library to do so.\n",
        "fig,ax = plt.subplots(1,2,figsize=(15,4))\n",
        "ax[0].plot([x for x in range(1,max_epoch+1)],validation_accuracy_per_epoch,color=\"blue\",label=\"Validation\")\n",
        "ax[0].plot([x for x in range(1,max_epoch+1)],training_accuracy_per_epoch,color=\"red\",label=\"Training\")\n",
        "ax[0].set_xlabel(\"Number of Epochs\")\n",
        "ax[0].set_ylabel(\"Accuracy (%)\")\n",
        "ax[0].legend(loc=\"best\")\n",
        "ax[1].plot([x for x in range(1,max_epoch+1)],validation_loss_per_epoch,color=\"blue\",label=\"Validation\")\n",
        "ax[1].plot([x for x in range(1,max_epoch+1)],training_loss_per_epoch,color=\"red\",label=\"Training\")\n",
        "ax[1].set_xlabel(\"Number of Epochs\")\n",
        "ax[1].set_ylabel(\"Loss\")\n",
        "ax[1].legend(loc=\"best\")\n",
        "plt.show()"
      ]
    },
    {
      "cell_type": "markdown",
      "metadata": {
        "id": "2Ccx_9g54-GS"
      },
      "source": [
        "### Test [4 points]\n",
        "Concluding your analysis, report the confusion matrix for the best model you obtained during your CNN model training. Then using this confusion matrix, report accuracy, recall, precision, and $F_1$ score for your best model. Use macro averaging in all of your metrics."
      ]
    },
    {
      "cell_type": "code",
      "execution_count": null,
      "metadata": {
        "id": "t7USNWHYemYo",
        "colab": {
          "base_uri": "https://localhost:8080/",
          "height": 368
        },
        "outputId": "1a497001-aef2-42bb-86de-5677977acc14"
      },
      "outputs": [
        {
          "output_type": "stream",
          "name": "stdout",
          "text": [
            "Accuracy: 0.8893805309734514\n",
            "Macro Recall: 0.8907913165266106\n",
            "Macro Precision: 0.8791751314932885\n",
            "Macro F1 Score: 0.8799622616900671\n"
          ]
        },
        {
          "output_type": "display_data",
          "data": {
            "text/plain": [
              "<Figure size 432x288 with 2 Axes>"
            ],
            "image/png": "[encoded data removed]"
          },
          "metadata": {
            "needs_background": "light"
          }
        }
      ],
      "source": [
        "# TODO: Implement your evaluation script here, provide the confusion matrix and the requested metrics\n",
        "model = torch.load(\"best_cnn_model.pth\")\n",
        "model.eval()\n",
        "\n",
        "with torch.no_grad():\n",
        "  for x_test_batch, y_test_batch in test_loader: #full batch\n",
        "    x_test_batch = x_test_batch.to(device)\n",
        "    y_test_batch = y_test_batch.to(device)\n",
        "    y_pred = model(x_test_batch)\n",
        "    l = loss_function(y_pred,y_test_batch)\n",
        "    pred = y_pred.argmax(dim=1).cpu()\n",
        "    truth = y_test_batch.argmax(dim=1).cpu()\n",
        "    accuracy = accuracy_score(truth,pred)    \n",
        "    recall_macro = recall_score(truth,pred,average=\"macro\")   \n",
        "    precision_macro = precision_score(truth,pred,average=\"macro\")\n",
        "    f1_score_macro = f1_score(truth,pred,average=\"macro\")\n",
        "    cmatrix = confusion_matrix(truth,pred)\n",
        "    print(f\"Accuracy: {accuracy}\")\n",
        "    print(f\"Macro Recall: {recall_macro}\")\n",
        "    print(f\"Macro Precision: {precision_macro}\")\n",
        "    print(f\"Macro F1 Score: {f1_score_macro}\")\n",
        "    sns.heatmap(cmatrix, annot=True)\n",
        "    plt.title(\"Confusion Matrix on Test Set\")\n",
        "    plt.ylabel(\"Actual\")\n",
        "    plt.xlabel(\"Prediction\")"
      ]
    },
    {
      "cell_type": "markdown",
      "metadata": {
        "id": "vPK3UZ9besKr"
      },
      "source": [
        "### Discussion [3 points]\n",
        "Now, try to compare the two models that you trained. How different are these two models regarding the number of parameters used?\n",
        "\n",
        "Explain your findings by connecting them with your experimental results. You can include your comments on a separate Markdown cell or below the question statement."
      ]
    },
    {
      "cell_type": "markdown",
      "metadata": {
        "id": "RaSufbDNrt_H"
      },
      "source": [
        "## Transfer Learning [22 points]\n",
        "\n",
        "As the last part of this assignment, you will practice transfer learning. In this methodology, we aim to use models trained on large-scale datasets for our task. As we do not have access to large datasets and computational resources all the time, we sometimes try to use already trained models (on other datasets) as a good starting point for our model, and then fine-tune the weights considering our task.  \n",
        "\n",
        "Torchvision library provides numerous models pretrained for specific tasks. [Here](https://pytorch.org/vision/stable/models.html), you can find a list of pretrained models. For this part, you will include [ResNet](https://arxiv.org/abs/1512.03385)-18 model, pretrained with ImageNet dataset. ImageNet is a large dataset where training from scratch would take a long time. You will fine-tune this pretrained module for your task. \n",
        "<br>\n",
        "**Hint:** You can add a Linear layer to adapt the model to the number of classes needed for your task. You can access the number of inputs to the ResNet-18 model as $\\texttt{model.fc.in_features}$ and then modify the fully connected layer of the model $\\texttt{model.fc}$.\n",
        "<br>\n",
        "\n",
        "Using the ResNet-18 backbone, implement this model's training loop (by adapting it to your task). You can implement the training procedure in the cell provided below. Again save your model based on a criterion indicating the best model. Explain the reasoning for your criteria. Use the SGD optimizer provided by PyTorch to optimize your model.\n",
        "\n",
        "Just like the previous parts, you can also tune your hyperparameters to optimize your model's performance. "
      ]
    },
    {
      "cell_type": "markdown",
      "metadata": {
        "id": "s1O0rHumXDob"
      },
      "source": [
        "###Training [12 points]"
      ]
    },
    {
      "cell_type": "code",
      "execution_count": null,
      "metadata": {
        "id": "V6Fvqilcrz10",
        "colab": {
          "base_uri": "https://localhost:8080/"
        },
        "outputId": "2f550626-7781-4bd5-b103-051cbcc3c1f0"
      },
      "outputs": [
        {
          "output_type": "stream",
          "name": "stderr",
          "text": [
            "/usr/local/lib/python3.8/dist-packages/torchvision/models/_utils.py:208: UserWarning: The parameter 'pretrained' is deprecated since 0.13 and may be removed in the future, please use 'weights' instead.\n",
            "  warnings.warn(\n",
            "/usr/local/lib/python3.8/dist-packages/torchvision/models/_utils.py:223: UserWarning: Arguments other than a weight enum or `None` for 'weights' are deprecated since 0.13 and may be removed in the future. The current behavior is equivalent to passing `weights=ResNet18_Weights.IMAGENET1K_V1`. You can also use `weights=ResNet18_Weights.DEFAULT` to get the most up-to-date weights.\n",
            "  warnings.warn(msg)\n"
          ]
        },
        {
          "output_type": "stream",
          "name": "stdout",
          "text": [
            "Epoch:1------> Validation error:0.2490309774875641 Validation accuracy:91.07142857142857% Training error:3.774613676735988 Training accuracy:57.941550190597205%\n",
            "Epoch:2------> Validation error:0.08792508393526077 Validation accuracy:96.42857142857143% Training error:0.28278801504236 Training accuracy:91.35959339263025%\n",
            "Epoch:3------> Validation error:0.045596323907375336 Validation accuracy:99.10714285714286% Training error:0.10154876141594006 Training accuracy:96.44218551461245%\n",
            "Epoch:4------> Validation error:0.03232952952384949 Validation accuracy:99.10714285714286% Training error:0.025111910045290224 Training accuracy:99.11054637865311%\n",
            "Epoch:5------> Validation error:0.030184345319867134 Validation accuracy:99.10714285714286% Training error:0.00802628277765157 Training accuracy:99.87293519695045%\n",
            "Epoch:6------> Validation error:0.027967607602477074 Validation accuracy:99.10714285714286% Training error:0.00406804325309797 Training accuracy:99.87293519695045%\n",
            "Epoch:7------> Validation error:0.026358848437666893 Validation accuracy:99.10714285714286% Training error:0.0023870755775043597 Training accuracy:100.0%\n",
            "Epoch:8------> Validation error:0.025391647592186928 Validation accuracy:99.10714285714286% Training error:0.0017398671927646948 Training accuracy:100.0%\n",
            "Epoch:9------> Validation error:0.02471453696489334 Validation accuracy:99.10714285714286% Training error:0.0013785000751690508 Training accuracy:100.0%\n",
            "Epoch:10------> Validation error:0.02418365702033043 Validation accuracy:99.10714285714286% Training error:0.0011438381737277198 Training accuracy:100.0%\n"
          ]
        }
      ],
      "source": [
        "#HINT: note that your training time should not take many days.\n",
        "\n",
        "#TODO:\n",
        "#Pick your hyper parameters\n",
        "max_epoch = 10\n",
        "train_batch = 64\n",
        "test_batch = test_dataset.__len__()\n",
        "learning_rate = 9e-2\n",
        "weight_decay = 5e-04\n",
        "\n",
        "#DataLoader objects for mini-batches\n",
        "train_loader = DataLoader(train_dataset,batch_size=train_batch)\n",
        "val_loader = DataLoader(val_dataset,batch_size=val_dataset.__len__())\n",
        "test_loader = DataLoader(test_dataset,batch_size=test_batch)\n",
        "\n",
        "#Get resnet18 model and update classification layer according to this project's layer count\n",
        "model = models.resnet18(pretrained=True)\n",
        "num_features = model.fc.in_features\n",
        "model.fc = nn.Linear(num_features,4)\n",
        "model = model.to(device)\n",
        "\n",
        "#Determine loss function and the optimizer\n",
        "loss_function = nn.CrossEntropyLoss()    \n",
        "optimizer = torch.optim.SGD(model.parameters(), lr=learning_rate, weight_decay=weight_decay)\n",
        "\n",
        "training_loss_per_epoch = []\n",
        "training_accuracy_per_epoch = []\n",
        "validation_accuracy_per_epoch = []\n",
        "validation_loss_per_epoch = []\n",
        "\n",
        "current_min_validation_loss = np.inf #this will be used when saving the best model\n",
        "\n",
        "# TODO: Implement training loop + eval using ResNet-18 model\n",
        "for epoch in range(max_epoch):\n",
        "  model.train()\n",
        "  training_correct = 0\n",
        "  training_loss_per_batch = [] #Mean of this list will be taken for training loss per epoch\n",
        "\n",
        "  #Training\n",
        "  for x_train_batch, y_train_batch in train_loader:\n",
        "    x_train_batch = x_train_batch.to(device)\n",
        "    y_train_batch = y_train_batch.to(device)\n",
        "    y_pred = model(x_train_batch)\n",
        "    l = loss_function(y_pred,y_train_batch)\n",
        "    l.backward()\n",
        "    optimizer.step()\n",
        "    optimizer.zero_grad()\n",
        "    pred = y_pred.argmax(dim=1)\n",
        "    truth = y_train_batch.argmax(dim=1)\n",
        "    training_correct += torch.eq(truth, pred).sum().item()\n",
        "    training_loss_per_batch.append(l.item())\n",
        "  \n",
        "  #Validation\n",
        "  with torch.no_grad():\n",
        "    for x_val, y_val in val_loader:\n",
        "      x_val = x_val.to(device)\n",
        "      y_val = y_val.to(device)\n",
        "      optimizer.zero_grad()\n",
        "      y_pred = model(x_val)\n",
        "      l = loss_function(y_pred,y_val)\n",
        "      pred = y_pred.argmax(dim=1)\n",
        "      truth = y_val.argmax(dim=1)\n",
        "      val_correct = torch.eq(truth, pred).sum().item()\n",
        "      val_accuracy = 100*val_correct/pred.size()[0]\n",
        "      validation_accuracy_per_epoch.append(val_accuracy)\n",
        "      training_accuracy = 100 * training_correct / train_loader.dataset.__len__()\n",
        "      training_accuracy_per_epoch.append(training_accuracy)\n",
        "      validation_loss_per_epoch.append(l.item())\n",
        "      training_loss = np.mean(training_loss_per_batch)\n",
        "      training_loss_per_epoch.append(training_loss)\n",
        "      #Save the best model per epoch\n",
        "      #validation loss is seletected as a metric for this process\n",
        "      avg_validation_error = np.mean(validation_loss_per_epoch)\n",
        "      if avg_validation_error < current_min_validation_loss:\n",
        "        torch.save(model,\"best_resnet18_model.pth\")\n",
        "        current_min_validation_loss = avg_validation_error\n",
        "      print(f\"Epoch:{epoch+1}------> Validation error:{l.item()} Validation accuracy:{val_accuracy}% Training error:{training_loss} Training accuracy:{training_accuracy}%\")\n",
        "\n"
      ]
    },
    {
      "cell_type": "markdown",
      "metadata": {
        "id": "LW2aqaDEXFds"
      },
      "source": [
        "###Learning Process Analysis [3 points]\n",
        "After training your model, provide two plots summarizing the learning procedure. Like previous parts, you will provide plots for loss value and accuracy progression over epochs. Remember that for each plot, you need to include two curves (one for the training set and one for the validation set)."
      ]
    },
    {
      "cell_type": "code",
      "execution_count": null,
      "metadata": {
        "id": "esWBPBmdlqlA",
        "colab": {
          "base_uri": "https://localhost:8080/",
          "height": 279
        },
        "outputId": "e26734c9-a931-4dd7-ccb4-4a727e7d7369"
      },
      "outputs": [
        {
          "output_type": "display_data",
          "data": {
            "text/plain": [
              "<Figure size 1080x288 with 2 Axes>"
            ],
            "image/png": "[encoded data removed]"
          },
          "metadata": {
            "needs_background": "light"
          }
        }
      ],
      "source": [
        "# TODO: Implement your plots here, you can use matplotlib library to do so.\n",
        "fig,ax = plt.subplots(1,2,figsize=(15,4))\n",
        "ax[0].plot([x for x in range(1,max_epoch+1)],validation_accuracy_per_epoch,color=\"blue\",label=\"Validation\")\n",
        "ax[0].plot([x for x in range(1,max_epoch+1)],training_accuracy_per_epoch,color=\"red\",label=\"Training\")\n",
        "ax[0].set_xlabel(\"Number of Epochs\")\n",
        "ax[0].set_ylabel(\"Accuracy (%)\")\n",
        "ax[0].legend(loc=\"best\")\n",
        "ax[1].plot([x for x in range(1,max_epoch+1)],validation_loss_per_epoch,color=\"blue\",label=\"Validation\")\n",
        "ax[1].plot([x for x in range(1,max_epoch+1)],training_loss_per_epoch,color=\"red\",label=\"Training\")\n",
        "ax[1].set_xlabel(\"Number of Epochs\")\n",
        "ax[1].set_ylabel(\"Loss\")\n",
        "ax[1].legend(loc=\"best\")\n",
        "plt.show()"
      ]
    },
    {
      "cell_type": "markdown",
      "metadata": {
        "id": "o4Y-Qs33XH_G"
      },
      "source": [
        "### Test [4 points]\n",
        "Following your analysis, report the confusion matrix for the best model you obtained (with the criteria you defined). Then, report the accuracy, precision, recall and $F_1$ score for the best model. In all of the metrics, use macro averaging."
      ]
    },
    {
      "cell_type": "code",
      "execution_count": null,
      "metadata": {
        "id": "bsZbLlOD5SvJ",
        "colab": {
          "base_uri": "https://localhost:8080/",
          "height": 368
        },
        "outputId": "1d1c3c6d-5a99-4225-b091-34b3eea3ad4d"
      },
      "outputs": [
        {
          "output_type": "stream",
          "name": "stdout",
          "text": [
            "Accuracy: 0.9778761061946902\n",
            "Macro Recall: 0.9797210550887021\n",
            "Macro Precision: 0.9756531349724261\n",
            "Macro F1 Score: 0.977485427754245\n"
          ]
        },
        {
          "output_type": "display_data",
          "data": {
            "text/plain": [
              "<Figure size 432x288 with 2 Axes>"
            ],
            "image/png": "[encoded data removed]"
          },
          "metadata": {
            "needs_background": "light"
          }
        }
      ],
      "source": [
        "# TODO: Implement your evaluation script here, provide the confusion matrix and the requested metrics\n",
        "model = torch.load(\"best_resnet18_model.pth\")\n",
        "model.eval()\n",
        "\n",
        "with torch.no_grad():\n",
        "  for x_test_batch, y_test_batch in test_loader: #full batch\n",
        "    x_test_batch = x_test_batch.to(device)\n",
        "    y_test_batch = y_test_batch.to(device)\n",
        "    y_pred = model(x_test_batch)\n",
        "    l = loss_function(y_pred,y_test_batch)\n",
        "    pred = y_pred.argmax(dim=1).cpu()\n",
        "    truth = y_test_batch.argmax(dim=1).cpu()\n",
        "    accuracy = accuracy_score(truth,pred)    \n",
        "    recall_macro = recall_score(truth,pred,average=\"macro\")   \n",
        "    precision_macro = precision_score(truth,pred,average=\"macro\")\n",
        "    f1_score_macro = f1_score(truth,pred,average=\"macro\")\n",
        "    cmatrix = confusion_matrix(truth,pred)\n",
        "    print(f\"Accuracy: {accuracy}\")\n",
        "    print(f\"Macro Recall: {recall_macro}\")\n",
        "    print(f\"Macro Precision: {precision_macro}\")\n",
        "    print(f\"Macro F1 Score: {f1_score_macro}\")\n",
        "    sns.heatmap(cmatrix, annot=True)\n",
        "    plt.title(\"Confusion Matrix on Test Set\")\n",
        "    plt.ylabel(\"Actual\")\n",
        "    plt.xlabel(\"Prediction\")"
      ]
    },
    {
      "cell_type": "markdown",
      "metadata": {
        "id": "47uwNm3NmJDB"
      },
      "source": [
        "### Discussion [3 points]\n",
        "Now discuss the effectiveness of Transfer Learning. How does it improve performance?  "
      ]
    },
    {
      "cell_type": "markdown",
      "source": [
        "The pretrained model outperformed other 2 models. It reached to the validation accuracy of %99.10 in 3 epochs. This is possible because the weights of the pretrained model has already been optimized. The training process of this project tuned the weights of the pretrained model so that it can be used for our dataset too.   "
      ],
      "metadata": {
        "id": "getAB0JGUJfh"
      }
    },
    {
      "cell_type": "markdown",
      "metadata": {
        "id": "23y1QPvOVDIF"
      },
      "source": [
        "# References\n",
        "[1] Ajayi, Gbeminiyi (2018), “Multi-class Weather Dataset for Image Classification”, Mendeley Data, V1, doi: 10.17632/4drtyfjtfy.1"
      ]
    }
  ],
  "metadata": {
    "accelerator": "GPU",
    "colab": {
      "provenance": []
    },
    "kernelspec": {
      "display_name": "Python 3",
      "language": "python",
      "name": "python3"
    },
    "language_info": {
      "codemirror_mode": {
        "name": "ipython",
        "version": 3
      },
      "file_extension": ".py",
      "mimetype": "text/x-python",
      "name": "python",
      "nbconvert_exporter": "python",
      "pygments_lexer": "ipython3",
      "version": "3.8.3"
    },
    "gpuClass": "standard"
  },
  "nbformat": 4,
  "nbformat_minor": 0
}